{
 "cells": [
  {
   "cell_type": "markdown",
   "metadata": {
    "_uuid": "7fad15a600d8a4b8a0e8a23fef765b8b578b0596"
   },
   "source": [
    "# Introduction\n",
    "I had previously written a short kernel to practice Python. My \"native language\" is R, but the benefits of using Python are too great to ignore. In this notebook, I revist the same dataset but attempt several additional techniques, including: \n",
    "1. Pre-process with object-oriented programming\n",
    "2. Create Pipeline\n",
    "3. Use partial dependency plots\n",
    "4. running multiple aglorithms through a pipeline\n",
    "\n",
    "The individual elements could be the subject af a kernel all to themselves, but I am choosing to make each occupy a section within this Kernel. I hope this helps you on your python journey! "
   ]
  },
  {
   "cell_type": "markdown",
   "metadata": {
    "_uuid": "20a145f3146cd2976f0ab5a8c58ac148170b9710"
   },
   "source": [
    "# Import Libraries"
   ]
  },
  {
   "cell_type": "code",
   "execution_count": 1,
   "metadata": {
    "_cell_guid": "b1076dfc-b9ad-4769-8c92-a6c4dae69d19",
    "_uuid": "8f2839f25d086af736a60e9eeb907d3b93b6e0e5"
   },
   "outputs": [],
   "source": [
    "# Import Libraries\n",
    "import pandas as pd\n",
    "import numpy as np\n",
    "from subprocess import check_output\n",
    "from sklearn.base import BaseEstimator, TransformerMixin\n",
    "from sklearn.decomposition import PCA, SparsePCA\n",
    "from sklearn.preprocessing import FunctionTransformer, OneHotEncoder, Imputer, StandardScaler, PolynomialFeatures\n",
    "from sklearn.pipeline import FeatureUnion, Pipeline\n",
    "from sklearn.model_selection import train_test_split\n",
    "from sklearn.model_selection import RandomizedSearchCV\n",
    "from sklearn.metrics import mean_squared_error\n",
    "from sklearn.impute import SimpleImputer, MissingIndicator \n",
    "from sklearn.feature_selection import VarianceThreshold\n",
    "from sklearn.compose import ColumnTransformer\n",
    "from sklearn.svm import SVR\n",
    "from sklearn.ensemble import RandomForestRegressor, IsolationForest\n",
    "%matplotlib inline\n",
    "import matplotlib\n",
    "import matplotlib.pyplot as plt\n",
    "from scipy.stats import reciprocal, uniform\n",
    "import functools\n",
    "import shap"
   ]
  },
  {
   "cell_type": "markdown",
   "metadata": {
    "_uuid": "6c27632dd1c175006c86049bba665ae304d5068d"
   },
   "source": [
    "# Dictionaries"
   ]
  },
  {
   "cell_type": "markdown",
   "metadata": {
    "_uuid": "2c9977d2d8d7ae50e2a5129cf3f368e87e6cb6f9"
   },
   "source": [
    "Below is a (nested?) dictionary which contains specific values for each column. This was initially performed by another user on Kaggle -- if someone happens to know who made these dicionaries initially then I will edit this notebook and provide proper attribution.  My contribution was to coalesce all of the user's individual dictionaries into one. "
   ]
  },
  {
   "cell_type": "code",
   "execution_count": 2,
   "metadata": {
    "_uuid": "de20ffb3ea9c86109148b3b202ce0e48f516436f"
   },
   "outputs": [],
   "source": [
    "replacement_dict = {\"MoSold\" : {1 : \"Jan\", 2 : \"Feb\", 3 : \"Mar\", 4 : \"Apr\", 5 : \"May\", 6 : \"Jun\", 7 : \"Jul\", 8 : \"Aug\", 9 : \"Sep\", 10 : \"Oct\", 11 : \"Nov\", 12 : \"Dec\"},\n",
    "            \"SaleCondition\" : {\"Abnorml\" : 0, \"Alloca\" : 0, \"AdjLand\" : 0, \"Family\" : 0, \"Normal\" : 0, \"Partial\" : 1},\n",
    "            \"ExterCond\" : {\"Po\" : 1, \"Fa\" : 2, \"TA\": 3, \"Gd\": 4, \"Ex\" : 5},\n",
    "            \"ExterQual\" : {\"Po\" : 1, \"Fa\" : 2, \"TA\": 3, \"Gd\": 4, \"Ex\" : 5},\n",
    "            \"Functional\" : {\"Sal\" : 1, \"Sev\" : 2, \"Maj2\" : 3, \"Maj1\" : 4, \"Mod\": 5, \"Min2\" : 6, \"Min1\" : 7, \"Typ\" : 8},\n",
    "            \"HeatingQC\" : {\"Po\" : 1, \"Fa\" : 2, \"TA\" : 3, \"Gd\" : 4, \"Ex\" : 5},\n",
    "            \"KitchenQual\" : {\"Po\" : 1, \"Fa\" : 2, \"TA\" : 3, \"Gd\" : 4, \"Ex\" : 5},\n",
    "            \"LandSlope\" : {\"Sev\" : 1, \"Mod\" : 2, \"Gtl\" : 3},\n",
    "            \"LotShape\" : {\"IR3\" : 1, \"IR2\" : 2, \"IR1\" : 3, \"Reg\" : 4},\n",
    "            \"PavedDrive\" : {\"N\" : 0, \"P\" : 1, \"Y\" : 2},\n",
    "            \"Street\" : {\"Grvl\" : 1, \"Pave\" : 2},\n",
    "            \"Utilities\" : {\"ELO\" : 1, \"NoSeWa\" : 2, \"NoSewr\" : 3, \"AllPub\" : 4},\n",
    "            #\"OverallQual\" : {1 : 1, 2 : 1, 3 : 1, # bad\n",
    "            #               4 : 2, 5 : 2, 6 : 2, # average\n",
    "            #               7 : 3, 8 : 3, 9 : 3, 10 : 3 # good\n",
    "            #              },\n",
    "            #\"OverallCond\" : {1 : 1, 2 : 1, 3 : 1, # bad\n",
    "            #                          4 : 2, 5 : 2, 6 : 2, # average\n",
    "            #                          7 : 3, 8 : 3, 9 : 3, 10 : 3 # good\n",
    "            #                         },\n",
    "    #\"ModExterCond\" : {1 : 1, # bad\n",
    "    #                                               2 : 1, 3 : 1, # average\n",
    "    #                                               4 : 2, 5 : 2 # good\n",
    "    #                                              },\n",
    "    #\"ModExterQual\" : {1 : 1, # bad\n",
    "    #                                               2 : 1, 3 : 1, # average\n",
    "    #                                               4 : 2, 5 : 2 # good\n",
    "    #                                              },\n",
    "    #\"ModFunctional\" : {1 : 1, 2 : 1, # bad\n",
    "    #                                                 3 : 2, 4 : 2, # major\n",
    "    #                                                 5 : 3, 6 : 3, 7 : 3, # minor\n",
    "    #                                                 8 : 4 # typical\n",
    "    #                                                },\n",
    "    #\"ModKitchenQual\" : {1 : 1, # bad\n",
    "    #                                                   2 : 1, 3 : 1, # average\n",
    "    #                                                   4 : 2, 5 : 2 # good\n",
    "    #                                                  },\n",
    "    #\"ModHeatingQC\" : {1 : 1, # bad\n",
    "    #                                               2 : 1, 3 : 1, # average\n",
    "    #                                               4 : 2, 5 : 2 # good\n",
    "    #                                              }   \n",
    "}"
   ]
  },
  {
   "cell_type": "markdown",
   "metadata": {
    "_uuid": "b1b1c6122c57550ddaad078e394524e7c8bf34a0"
   },
   "source": [
    "# Pre-process with Object Oriented Programming"
   ]
  },
  {
   "cell_type": "markdown",
   "metadata": {
    "_uuid": "319646cf9658217dd5c3a507168835e2451d7be4"
   },
   "source": [
    "I have learned that there are many benefits to using OOP with Python. It makes code more readable, reproducible, testable, etc. For this section, I create a python class specifically for this competition to handle the \"pre-processing\" of the data. What I mean by \"pre-processing\" is making the training and testing sets equivalent in form. This class contains functions to: \n",
    "1. Load the training and testing data\n",
    "2. Generate a \"submission\" dataframe\n",
    "3. Use the above dictionary to replace vlalues\n",
    "4. Log transforming the response\n",
    "5. Removing categories that do not show up in Test (to allow for one-hot-encoding)"
   ]
  },
  {
   "cell_type": "code",
   "execution_count": 3,
   "metadata": {
    "_uuid": "e797274dd9e4df5c89f26f4c6614917a15308b4f"
   },
   "outputs": [],
   "source": [
    "# Define Class\n",
    "class HousingPricesRegression():\n",
    "    # class initialization\n",
    "    def __init__(self, train_path, test_path):\n",
    "        self.train = pd.read_csv(train_path)\n",
    "        self.test = pd.read_csv(test_path)\n",
    "        self.submission = pd.DataFrame()\n",
    "        self.percent = 0.07\n",
    "        self.keep_columns = []\n",
    "        self.model_list={}\n",
    "        self.reg_pipe = None\n",
    "        self.rs_reg = None\n",
    "        self.regres = None\n",
    "        self.score = None\n",
    "        \n",
    "    def gen_submission_file(self, id_col):\n",
    "        self.submission[id_col] = self.test[id_col]\n",
    "        self.test.drop([id_col], axis = 1, inplace=True)\n",
    "        self.train.drop([id_col], axis = 1, inplace=True)\n",
    "        \n",
    "    # replace information within columns\n",
    "    def replace_values(self, replace_dict):\n",
    "        # Find name (top level key)\n",
    "        key_name = str(*replace_dict)\n",
    "        true_index = np.where(self.train.columns.isin([key_name]))\n",
    "        col_name = list(self.train.columns[true_index])\n",
    "        if len(col_name) == 0:\n",
    "            # Option 1: Dictionary refers to a key that doesn't exist. Create one!\n",
    "            orig_name = key_name[3:]\n",
    "            self.train[key_name] = self.train[orig_name].map(replace_dict[key_name])\n",
    "            self.test[key_name] = self.test[orig_name].map(replace_dict[key_name])\n",
    "        else:\n",
    "            # Option 2: Dictionary refers to a key that does exist. Modify! \n",
    "            # Take 'ModExterCond' and find the original (\"ExterCond\")\n",
    "            self.train[key_name] = self.train[key_name].map(replace_dict[key_name])\n",
    "            self.test[key_name] = self.test[key_name].map(replace_dict[key_name])\n",
    "            \n",
    "    # Take Logarithm of Response\n",
    "    def create_response(self, response):\n",
    "        self.price_labels = np.log(self.train[response].copy() + 1)\n",
    "        self.orig_resp = self.train[response]\n",
    "        # drop original to avoid confusion\n",
    "        self.train.drop([response], axis=1, inplace = True)  \n",
    "        \n",
    "    def drop_missing(self, threshold_percent):\n",
    "        self.percent = ( self.train.isnull().sum() / self.train.isnull().count() ).sort_values(ascending=False)\n",
    "        ## make list of columns to be dropped\n",
    "        self.keep_columns = list(self.percent[self.percent < threshold_percent].index)\n",
    "        ## drop columns\n",
    "        self.train = self.train[self.keep_columns]\n",
    "        self.test = self.test[self.keep_columns]\n",
    "        \n",
    "    # Remove categories \n",
    "    def remove_categories(self, cat_cols):\n",
    "        for i in cat_cols:\n",
    "            trn = self.train[i].astype('category')\n",
    "            trn = trn.cat.categories\n",
    "            tst = self.test[i].astype('category')\n",
    "            tst = tst.cat.categories\n",
    "            # Find that which is in test which is not in train\n",
    "            unique_values_train = list(set(trn) - set(tst))\n",
    "            # Check \n",
    "            # If no difference, print\n",
    "            if len(unique_values_train)==0:\n",
    "                print(\"No Differnence for {}\".format(i))\n",
    "            else:\n",
    "                # If there is a differnce, change to NA in test for later imputation\n",
    "                for j in unique_values_train:\n",
    "                    to_replace_index = self.train.loc[self.train[i]==j,i].index\n",
    "                    self.train.loc[to_replace_index,i] = float('NaN')\n",
    "                    self.train[i] = self.train[i].cat.remove_categories(j)\n",
    "                    print(\"{} removed from {} in train\".format(j,i))\n",
    "                    \n",
    "    # Set the category type \n",
    "    def make_category(self, cat_cols):\n",
    "        self.train[cat_cols] = self.train[cat_cols].astype('category')\n",
    "        self.test[cat_cols] = self.test[cat_cols].astype('category')\n",
    "    \n",
    "    # Run the pipe\n",
    "    def run_pipeline(self, pipe, names, regressors, parameters, X_train, X_val, y_train, y_val):\n",
    "        self.model_list = {}\n",
    "        for name, regressor, params in zip(names, regressors, parameters):\n",
    "            self.reg_pipe = Pipeline([\n",
    "                ('pipeline', pipe),\n",
    "                ('reg', regressor)\n",
    "            ])\n",
    "            self.rs_reg = RandomizedSearchCV(self.reg_pipe, params, n_iter=10, verbose=2, random_state=42, scoring='neg_mean_squared_error')\n",
    "            self.regres = self.rs_reg.fit(X_train, y_train)\n",
    "            self.score = self.regres.score(X_val, y_val)\n",
    "            print(\"{} score: {}\".format(name, self.score))\n",
    "            self.model_list[name] = self.regres"
   ]
  },
  {
   "cell_type": "markdown",
   "metadata": {
    "_uuid": "6c7cd3b831c86b1d5bc7d462ff4667aa396ad86b"
   },
   "source": [
    "### Load Data"
   ]
  },
  {
   "cell_type": "code",
   "execution_count": 4,
   "metadata": {
    "_uuid": "c95568a9daaf3929f3a01acc609126a33224e3d9"
   },
   "outputs": [],
   "source": [
    "# Define Paths\n",
    "file_path = ''\n",
    "train_path = str(file_path) + str('train.csv')\n",
    "test_path = str(file_path) + str('test.csv')\n",
    "submission_path = str(file_path) + str()\n",
    "\n",
    "# Instantiate model object\n",
    "hprObject = HousingPricesRegression(train_path, test_path)\n",
    "\n",
    "# Generate submission file\n",
    "hprObject.gen_submission_file(id_col='Id')"
   ]
  },
  {
   "cell_type": "markdown",
   "metadata": {},
   "source": [
    "### Create Response\n",
    "This creates a single column dataframe called `price_labels` that is a copy of that in train, except log-transformed. The corresponding column in the train dataframe is also dropped. The graph below shows how the data becomes centered after the logarithmic transformation."
   ]
  },
  {
   "cell_type": "code",
   "execution_count": 5,
   "metadata": {},
   "outputs": [],
   "source": [
    "# This takes the log of the sales price\n",
    "hprObject.create_response(response=\"SalePrice\")"
   ]
  },
  {
   "cell_type": "code",
   "execution_count": 6,
   "metadata": {},
   "outputs": [
    {
     "data": {
      "image/png": "[encoded data removed]",
      "text/plain": [
       "<Figure size 648x288 with 2 Axes>"
      ]
     },
     "metadata": {
      "needs_background": "light"
     },
     "output_type": "display_data"
    }
   ],
   "source": [
    "fig, axes = plt.subplots(nrows=1, ncols=2, figsize=(9,4))\n",
    "axes[0].boxplot(hprObject.orig_resp)\n",
    "axes[0].set_title('Original')\n",
    "axes[1].boxplot(hprObject.price_labels)\n",
    "axes[1].set_title('Log Transform')\n",
    "\n",
    "for ax in axes:\n",
    "    ax.set_xlabel('Response')\n",
    "    ax.set_ylabel('Observed Values')\n",
    "plt.show()"
   ]
  },
  {
   "cell_type": "markdown",
   "metadata": {},
   "source": [
    "### Call Replacement Method\n",
    "Loop through the dictionary replacing the values listed therein for each column."
   ]
  },
  {
   "cell_type": "code",
   "execution_count": 7,
   "metadata": {},
   "outputs": [],
   "source": [
    "# Replace features - multiple columns\n",
    "for key, values in replacement_dict.items():\n",
    "    temp_dict = {}\n",
    "    temp_dict[key] = replacement_dict[key] \n",
    "    hprObject.replace_values(temp_dict)"
   ]
  },
  {
   "cell_type": "markdown",
   "metadata": {},
   "source": [
    "### Drop Missing\n",
    "All columns missing more than \"threshold percent\" are dropped. Also shown is a custom transformer to accomplish this."
   ]
  },
  {
   "cell_type": "code",
   "execution_count": 10,
   "metadata": {},
   "outputs": [],
   "source": [
    "## Custom transformer not used...\n",
    "# class DropMissing(BaseEstimator, TransformerMixin):\n",
    "#    def __init__(self, threshold_percent):\n",
    "#        self.keep_columns = None\n",
    "#        self.threshold_percent = threshold_percent\n",
    "#    def fit(self, X, y=None):\n",
    "#        return self\n",
    "#    def transform(self, X):\n",
    "#        ## calculate percent missing\n",
    "#        percent = ( X.isnull().sum() / X.isnull().count() ).sort_values(ascending=False)\n",
    "#        ## make list of columns to be dropped\n",
    "#        self.keep_columns = list(percent[percent < self.threshold_percent].index)\n",
    "#        X = X[self.keep_columns]\n",
    "#        return X\n",
    "#    def fit_transform(self, X, y=None):\n",
    "#        return self.fit(X,y).transform(X)\n",
    "\n",
    "## Drop colums which have too many missing rows\n",
    "hprObject.drop_missing(threshold_percent=0.06)"
   ]
  },
  {
   "cell_type": "markdown",
   "metadata": {},
   "source": [
    "### Set Category and Numeric Columns"
   ]
  },
  {
   "cell_type": "code",
   "execution_count": 11,
   "metadata": {},
   "outputs": [
    {
     "name": "stderr",
     "output_type": "stream",
     "text": [
      "/home/gopherguy14/anaconda3/envs/kaggle_comps/lib/python3.6/site-packages/pandas/core/frame.py:3391: SettingWithCopyWarning: \n",
      "A value is trying to be set on a copy of a slice from a DataFrame.\n",
      "Try using .loc[row_indexer,col_indexer] = value instead\n",
      "\n",
      "See the caveats in the documentation: http://pandas.pydata.org/pandas-docs/stable/indexing.html#indexing-view-versus-copy\n",
      "  self[k1] = value[k2]\n"
     ]
    }
   ],
   "source": [
    "## Create list of numerical and categorical attributes\n",
    "num_cols = hprObject.test._get_numeric_data().columns\n",
    "cat_cols = list(set(hprObject.test.columns) - set(num_cols))\n",
    "num_cols = list(num_cols)\n",
    "\n",
    "## Need to move this to a class method or something\n",
    "hprObject.make_category(cat_cols)"
   ]
  },
  {
   "cell_type": "code",
   "execution_count": 12,
   "metadata": {},
   "outputs": [],
   "source": [
    "#hprObject.train[num_cols] = hprObject.train[num_cols].apply(pd.to_numeric)"
   ]
  },
  {
   "cell_type": "markdown",
   "metadata": {},
   "source": [
    "### Identify outliers with Isolation Forest"
   ]
  },
  {
   "cell_type": "code",
   "execution_count": 38,
   "metadata": {
    "_uuid": "dee1661cdf3ed6fb93269b0466dc33f42f5338b6"
   },
   "outputs": [],
   "source": [
    "## Create an arbitrary split\n",
    "#X_iso_train, X_iso_val, y_iso_train, y_iso_val = train_test_split(hprObject.train, hprObject.price_labels, test_size = 0.2, random_state=24)\n",
    "\n",
    "## cross-validate pipeline (may need to impute missing as zero)\n",
    "num_imputer = ColumnTransformer(\n",
    "    transformers = [\n",
    "        ('num_imp', SimpleImputer(strategy='constant',fill_value=0.0, copy=False), num_cols)\n",
    "    ],\n",
    "    remainder='drop'\n",
    ")\n",
    "\n",
    "cat_imputer = ColumnTransformer(\n",
    "    transformers = [\n",
    "        ('cat_imp', SimpleImputer(strategy='most_frequent', copy=False), cat_cols)\n",
    "    ],\n",
    "    remainder='drop'\n",
    ")\n",
    "\n",
    "step1 = Pipeline([\n",
    "    ('nums', num_imputer)\n",
    "])\n",
    "\n",
    "step2 = Pipeline([\n",
    "    ('categ', cat_imputer),\n",
    "    ('encode', OneHotEncoder(handle_unknown='ignore'))\n",
    "])\n",
    "\n",
    "step3 = FeatureUnion([\n",
    "    ('numeric_stuff', step1 ),\n",
    "    ('category_stuff', step2)\n",
    "])\n",
    "\n",
    "iso_pipeline = Pipeline([\n",
    "    ('final', step3),\n",
    "    ('fit', IsolationForest(n_estimators=15,\n",
    "                            contamination=0.05,\n",
    "                            behaviour='new'))\n",
    "])\n",
    "\n",
    "iso_fit = iso_pipeline.fit(X=hprObject.train, y=hprObject.price_labels)"
   ]
  },
  {
   "cell_type": "markdown",
   "metadata": {},
   "source": [
    "## Explore Outliers"
   ]
  },
  {
   "cell_type": "markdown",
   "metadata": {},
   "source": [
    "The isolation forest yields an 'outlier' or 'non-outlier' flag taking into consideration all features. "
   ]
  },
  {
   "cell_type": "code",
   "execution_count": 39,
   "metadata": {},
   "outputs": [
    {
     "name": "stderr",
     "output_type": "stream",
     "text": [
      "/home/gopherguy14/anaconda3/envs/kaggle_comps/lib/python3.6/site-packages/ipykernel_launcher.py:2: SettingWithCopyWarning: \n",
      "A value is trying to be set on a copy of a slice from a DataFrame.\n",
      "Try using .loc[row_indexer,col_indexer] = value instead\n",
      "\n",
      "See the caveats in the documentation: http://pandas.pydata.org/pandas-docs/stable/indexing.html#indexing-view-versus-copy\n",
      "  \n"
     ]
    },
    {
     "data": {
      "text/html": [
       "<div>\n",
       "<style scoped>\n",
       "    .dataframe tbody tr th:only-of-type {\n",
       "        vertical-align: middle;\n",
       "    }\n",
       "\n",
       "    .dataframe tbody tr th {\n",
       "        vertical-align: top;\n",
       "    }\n",
       "\n",
       "    .dataframe thead th {\n",
       "        text-align: right;\n",
       "    }\n",
       "</style>\n",
       "<table border=\"1\" class=\"dataframe\">\n",
       "  <thead>\n",
       "    <tr style=\"text-align: right;\">\n",
       "      <th></th>\n",
       "      <th>GarageCond</th>\n",
       "      <th>GarageType</th>\n",
       "      <th>GarageYrBlt</th>\n",
       "      <th>GarageFinish</th>\n",
       "      <th>GarageQual</th>\n",
       "      <th>BsmtExposure</th>\n",
       "      <th>BsmtFinType2</th>\n",
       "      <th>BsmtFinType1</th>\n",
       "      <th>BsmtCond</th>\n",
       "      <th>BsmtQual</th>\n",
       "      <th>...</th>\n",
       "      <th>GrLivArea</th>\n",
       "      <th>LowQualFinSF</th>\n",
       "      <th>2ndFlrSF</th>\n",
       "      <th>1stFlrSF</th>\n",
       "      <th>CentralAir</th>\n",
       "      <th>SaleType</th>\n",
       "      <th>Heating</th>\n",
       "      <th>TotalBsmtSF</th>\n",
       "      <th>MSSubClass</th>\n",
       "      <th>OutlierFlag</th>\n",
       "    </tr>\n",
       "  </thead>\n",
       "  <tbody>\n",
       "    <tr>\n",
       "      <th>9</th>\n",
       "      <td>TA</td>\n",
       "      <td>Attchd</td>\n",
       "      <td>1939.0</td>\n",
       "      <td>RFn</td>\n",
       "      <td>Gd</td>\n",
       "      <td>No</td>\n",
       "      <td>Unf</td>\n",
       "      <td>GLQ</td>\n",
       "      <td>TA</td>\n",
       "      <td>TA</td>\n",
       "      <td>...</td>\n",
       "      <td>1077</td>\n",
       "      <td>0</td>\n",
       "      <td>0</td>\n",
       "      <td>1077</td>\n",
       "      <td>Y</td>\n",
       "      <td>WD</td>\n",
       "      <td>GasA</td>\n",
       "      <td>991</td>\n",
       "      <td>190</td>\n",
       "      <td>-1</td>\n",
       "    </tr>\n",
       "    <tr>\n",
       "      <th>11</th>\n",
       "      <td>TA</td>\n",
       "      <td>BuiltIn</td>\n",
       "      <td>2005.0</td>\n",
       "      <td>Fin</td>\n",
       "      <td>TA</td>\n",
       "      <td>No</td>\n",
       "      <td>Unf</td>\n",
       "      <td>GLQ</td>\n",
       "      <td>TA</td>\n",
       "      <td>Ex</td>\n",
       "      <td>...</td>\n",
       "      <td>2324</td>\n",
       "      <td>0</td>\n",
       "      <td>1142</td>\n",
       "      <td>1182</td>\n",
       "      <td>Y</td>\n",
       "      <td>New</td>\n",
       "      <td>GasA</td>\n",
       "      <td>1175</td>\n",
       "      <td>60</td>\n",
       "      <td>-1</td>\n",
       "    </tr>\n",
       "    <tr>\n",
       "      <th>58</th>\n",
       "      <td>TA</td>\n",
       "      <td>BuiltIn</td>\n",
       "      <td>2006.0</td>\n",
       "      <td>Fin</td>\n",
       "      <td>TA</td>\n",
       "      <td>Gd</td>\n",
       "      <td>Unf</td>\n",
       "      <td>Unf</td>\n",
       "      <td>TA</td>\n",
       "      <td>Ex</td>\n",
       "      <td>...</td>\n",
       "      <td>2945</td>\n",
       "      <td>0</td>\n",
       "      <td>1519</td>\n",
       "      <td>1426</td>\n",
       "      <td>Y</td>\n",
       "      <td>New</td>\n",
       "      <td>GasA</td>\n",
       "      <td>1410</td>\n",
       "      <td>60</td>\n",
       "      <td>-1</td>\n",
       "    </tr>\n",
       "    <tr>\n",
       "      <th>88</th>\n",
       "      <td>NaN</td>\n",
       "      <td>NaN</td>\n",
       "      <td>NaN</td>\n",
       "      <td>NaN</td>\n",
       "      <td>NaN</td>\n",
       "      <td>No</td>\n",
       "      <td>Unf</td>\n",
       "      <td>Unf</td>\n",
       "      <td>Fa</td>\n",
       "      <td>TA</td>\n",
       "      <td>...</td>\n",
       "      <td>1526</td>\n",
       "      <td>513</td>\n",
       "      <td>0</td>\n",
       "      <td>1013</td>\n",
       "      <td>N</td>\n",
       "      <td>ConLD</td>\n",
       "      <td>GasA</td>\n",
       "      <td>1013</td>\n",
       "      <td>50</td>\n",
       "      <td>-1</td>\n",
       "    </tr>\n",
       "    <tr>\n",
       "      <th>93</th>\n",
       "      <td>TA</td>\n",
       "      <td>Detchd</td>\n",
       "      <td>1900.0</td>\n",
       "      <td>Unf</td>\n",
       "      <td>TA</td>\n",
       "      <td>Mn</td>\n",
       "      <td>Unf</td>\n",
       "      <td>Rec</td>\n",
       "      <td>Fa</td>\n",
       "      <td>TA</td>\n",
       "      <td>...</td>\n",
       "      <td>2291</td>\n",
       "      <td>0</td>\n",
       "      <td>1031</td>\n",
       "      <td>1260</td>\n",
       "      <td>N</td>\n",
       "      <td>WD</td>\n",
       "      <td>GasW</td>\n",
       "      <td>1214</td>\n",
       "      <td>190</td>\n",
       "      <td>-1</td>\n",
       "    </tr>\n",
       "  </tbody>\n",
       "</table>\n",
       "<p>5 rows × 74 columns</p>\n",
       "</div>"
      ],
      "text/plain": [
       "   GarageCond GarageType  GarageYrBlt GarageFinish GarageQual BsmtExposure  \\\n",
       "9          TA     Attchd       1939.0          RFn         Gd           No   \n",
       "11         TA    BuiltIn       2005.0          Fin         TA           No   \n",
       "58         TA    BuiltIn       2006.0          Fin         TA           Gd   \n",
       "88        NaN        NaN          NaN          NaN        NaN           No   \n",
       "93         TA     Detchd       1900.0          Unf         TA           Mn   \n",
       "\n",
       "   BsmtFinType2 BsmtFinType1 BsmtCond BsmtQual  ...  GrLivArea LowQualFinSF  \\\n",
       "9           Unf          GLQ       TA       TA  ...       1077            0   \n",
       "11          Unf          GLQ       TA       Ex  ...       2324            0   \n",
       "58          Unf          Unf       TA       Ex  ...       2945            0   \n",
       "88          Unf          Unf       Fa       TA  ...       1526          513   \n",
       "93          Unf          Rec       Fa       TA  ...       2291            0   \n",
       "\n",
       "   2ndFlrSF 1stFlrSF  CentralAir SaleType Heating  TotalBsmtSF  MSSubClass  \\\n",
       "9         0     1077           Y       WD    GasA          991         190   \n",
       "11     1142     1182           Y      New    GasA         1175          60   \n",
       "58     1519     1426           Y      New    GasA         1410          60   \n",
       "88        0     1013           N    ConLD    GasA         1013          50   \n",
       "93     1031     1260           N       WD    GasW         1214         190   \n",
       "\n",
       "   OutlierFlag  \n",
       "9           -1  \n",
       "11          -1  \n",
       "58          -1  \n",
       "88          -1  \n",
       "93          -1  \n",
       "\n",
       "[5 rows x 74 columns]"
      ]
     },
     "execution_count": 39,
     "metadata": {},
     "output_type": "execute_result"
    }
   ],
   "source": [
    "outlier_flag = iso_fit.predict(X=hprObject.train)\n",
    "hprObject.train['OutlierFlag'] = outlier_flag\n",
    "outlier_df = hprObject.train[hprObject.train.loc[:,'OutlierFlag']==-1]\n",
    "outlier_df.head()"
   ]
  },
  {
   "cell_type": "code",
   "execution_count": 35,
   "metadata": {},
   "outputs": [],
   "source": [
    "# Define Plotting method\n",
    "def plot_outliers1(col='OverallQual'):\n",
    "    y_out = hprObject.orig_resp[hprObject.train.loc[:,'OutlierFlag']==-1]\n",
    "    y_n = hprObject.orig_resp[hprObject.train.loc[:,'OutlierFlag']==1]\n",
    "    x_out = hprObject.train[hprObject.train.loc[:,'OutlierFlag']==-1][col]\n",
    "    x_n = hprObject.train[hprObject.train.loc[:,'OutlierFlag']==1][col]\n",
    "    \n",
    "    fig, axes = plt.subplots(figsize=(9,4))\n",
    "    axes.scatter(x_n, y_n, c='blue', alpha=0.3)\n",
    "    axes.scatter(x_out, y_out, c='red', alpha=0.3)\n",
    "    axes.set_xlabel(col)\n",
    "    axes.set_ylabel('Sales Price')\n",
    "        \n",
    "    plt.show()"
   ]
  },
  {
   "cell_type": "markdown",
   "metadata": {},
   "source": [
    "The 'outlier' values are shown in red, while the 'non-outliers' are shown in blue. These plots show that a particular 'SalesPrice' is simultaneously 'normal' for some features while being an 'outlier' for others. "
   ]
  },
  {
   "cell_type": "code",
   "execution_count": 40,
   "metadata": {},
   "outputs": [
    {
     "data": {
      "image/png": "[encoded data removed]",
      "text/plain": [
       "<Figure size 648x288 with 1 Axes>"
      ]
     },
     "metadata": {
      "needs_background": "light"
     },
     "output_type": "display_data"
    }
   ],
   "source": [
    "plot_outliers1(col='GrLivArea')"
   ]
  },
  {
   "cell_type": "code",
   "execution_count": 41,
   "metadata": {},
   "outputs": [
    {
     "data": {
      "image/png": "[encoded data removed]",
      "text/plain": [
       "<Figure size 648x288 with 1 Axes>"
      ]
     },
     "metadata": {
      "needs_background": "light"
     },
     "output_type": "display_data"
    }
   ],
   "source": [
    "plot_outliers1(col='TotalBsmtSF')"
   ]
  },
  {
   "cell_type": "markdown",
   "metadata": {},
   "source": [
    "## Subtitute the mean for outliers of 'SalesPrice'"
   ]
  },
  {
   "cell_type": "code",
   "execution_count": 47,
   "metadata": {},
   "outputs": [
    {
     "data": {
      "text/plain": [
       "9       12.024057\n",
       "11      12.024057\n",
       "58      12.024057\n",
       "88      12.024057\n",
       "93      12.024057\n",
       "113     12.024057\n",
       "125     12.024057\n",
       "185     12.024057\n",
       "219     12.024057\n",
       "246     12.024057\n",
       "268     12.024057\n",
       "291     12.024057\n",
       "352     12.024057\n",
       "358     12.024057\n",
       "365     12.024057\n",
       "434     12.024057\n",
       "443     12.024057\n",
       "450     12.024057\n",
       "488     12.024057\n",
       "502     12.024057\n",
       "523     12.024057\n",
       "531     12.024057\n",
       "545     12.024057\n",
       "597     12.024057\n",
       "614     12.024057\n",
       "635     12.024057\n",
       "639     12.024057\n",
       "644     12.024057\n",
       "649     12.024057\n",
       "661     12.024057\n",
       "          ...    \n",
       "932     12.024057\n",
       "959     12.024057\n",
       "975     12.024057\n",
       "998     12.024057\n",
       "1000    12.024057\n",
       "1022    12.024057\n",
       "1030    12.024057\n",
       "1038    12.024057\n",
       "1059    12.024057\n",
       "1091    12.024057\n",
       "1132    12.024057\n",
       "1164    12.024057\n",
       "1186    12.024057\n",
       "1192    12.024057\n",
       "1209    12.024057\n",
       "1217    12.024057\n",
       "1230    12.024057\n",
       "1235    12.024057\n",
       "1298    12.024057\n",
       "1312    12.024057\n",
       "1317    12.024057\n",
       "1321    12.024057\n",
       "1328    12.024057\n",
       "1346    12.024057\n",
       "1387    12.024057\n",
       "1393    12.024057\n",
       "1394    12.024057\n",
       "1437    12.024057\n",
       "1443    12.024057\n",
       "1449    12.024057\n",
       "Name: SalePrice, Length: 73, dtype: float64"
      ]
     },
     "execution_count": 47,
     "metadata": {},
     "output_type": "execute_result"
    }
   ],
   "source": [
    "mean_sales_price = hprObject.price_labels.mean()\n",
    "hprObject.price_labels[hprObject.train.loc[:,'OutlierFlag']==-1] = mean_sales_price"
   ]
  },
  {
   "cell_type": "markdown",
   "metadata": {},
   "source": [
    "# Pipeline"
   ]
  },
  {
   "cell_type": "markdown",
   "metadata": {},
   "source": [
    "### Pipelines Finally\n",
    "And now we are finally able to create a pipeline. There are so many powerful scripts / notebooks on Kaggle, and yet so few examples as to how to use the pipeline library. I now going to put the HousingRegressionPrices class aside and focus on building a pipeline. I found this process quite challenging because I am quite new to python. I am pleased with the result and I encourage you to take it and make it even better! \n",
    "\n",
    "The key to underatanding this pipeline is that not all columns go through the pipeline \"equally\". There are essentially three groups of columns: \n",
    "\n",
    "1. Numeric columns which are used to create new features\n",
    "2. Numeric columns which are not used to create new features\n",
    "3. Categorical columns which are one-hot-encoded\n",
    "\n",
    "These 3 groups of columns are bound back together horizontally by \"Feature Union\". \n",
    "\n",
    "#### Group 1: Numeric Columns & Feature Creation\n",
    "In the first edition of [*Hands-On Machine Learning with Scikit-Learn and TensorFlow*](https://www.amazon.com/Hands-Machine-Learning-Scikit-Learn-TensorFlow-ebook/dp/B06XNKV5TS/ref=sr_1_4?crid=1D12AT1KWITI1&keywords=hands+on+machine+learning+with+scikit-learn+and+tensorflow&qid=1555695123&s=gateway&sprefix=hands+on+machine+lear%2Caps%2C156&sr=8-4), Aurelien Geron explained how to create custom transformers which work with pandas dataframes. Recently, however, a new class has been introduced in Sklearn called [ColumnTransformer](https://scikit-learn.org/stable/modules/generated/sklearn.compose.ColumnTransformer.html) which effectively does this for you. I feed in speciifc columns *by name* and have PolynomialFeatures create interactions between these features. If you do not set 'remainder' to 'drop' then the other columns will be passed through this transformer in addition to the columns you explicitly speciifed. This could be confusing later, so I definitely advocate the use of 'drop'. Imputation and StandardScaleing is also performed. See 'step1' for the pipeline. \n",
    "\n",
    "#### Group 2: Other Numeric Columns\n",
    "Since I've elected to 'drop' the non-named numeric columns, I need to gerate another set of transformers which works on them. See 'step2' for the pipeline. I also create a missing indicator matrix so that my modeling method can specifically learn which values were imputed. \n",
    "\n",
    "#### Group 3: Categorical\n",
    "I have the categorical data go through its own series of steps, first imputing by \"most_frequent\" and then converting the data into a one-hot-encoding. Again I create a missing indicator matrix so that imputed values can be learned. \n",
    "\n",
    "And here is the pipeline in all its glory. "
   ]
  },
  {
   "cell_type": "code",
   "execution_count": 67,
   "metadata": {},
   "outputs": [],
   "source": [
    "## Column Names ##\n",
    "# These were troublesome\n",
    "# kitchen_col = ['KitchenAbvGr', 'KitchenQual']\n",
    "# add_area = ['GrLivArea','TotalBsmtSF']\n",
    "# count_bath = ['BsmtFullBath','FullBath','BsmtHalfBath','HalfBath']\n",
    "# Using these:\n",
    "grade_col = ['OverallQual', 'OverallCond']\n",
    "exter_cond = ['ExterQual','ExterCond']\n",
    "add_floor = ['1stFlrSF', '2ndFlrSF']\n",
    "add_porch = ['OpenPorchSF','EnclosedPorch','3SsnPorch','ScreenPorch']\n",
    "\n",
    "#origFeat = grade_col + exter_cond + add_floor + add_porch \n",
    "\n",
    "feat_eng_names = grade_col + ['OverallTotal'] + exter_cond + ['ExterTotal'] + \\\n",
    "add_floor + ['FlrSFTotal'] + add_porch + ['UnionPorch'] + ['ModPorch1'] + ['ModPorch2'] + ['ModPorch3'] + ['ModPorch4'] + ['ModPorch5'] \n",
    "\n",
    "other_num_cols = list(set(num_cols) - set(feat_eng_names))\n",
    "\n",
    "## Actually, move the problem children 'multi_kitchen', 'add_total_SF', 'count_baths' to the 'other numeric' group. \n",
    "## They will be imputed with all the others, and feature engineering will be performed on the data without NAs\n",
    "## And that should be perfect! \n",
    "\n",
    "## Step 1: Feature Engineering ##\n",
    "feature_engineering = ColumnTransformer(\n",
    "    transformers = [\n",
    "        ('multi_grade', PolynomialFeatures(degree=2, interaction_only=True, include_bias=False), grade_col),\n",
    "        ('multi_exter', PolynomialFeatures(degree=2, interaction_only=True, include_bias=False), exter_cond),\n",
    "        ('add_floor_SF', PolynomialFeatures(degree=2, interaction_only=True, include_bias=False), add_floor),\n",
    "        ('add_porch_SF', PolynomialFeatures(degree=2, interaction_only=True, include_bias=False), add_porch),\n",
    "    ],\n",
    "    remainder='drop'\n",
    ")\n",
    "\n",
    "step1 = Pipeline([\n",
    "    ('feat_eng', feature_engineering),\n",
    "    ('impute_feats', SimpleImputer(strategy=\"mean\", copy=False)),\n",
    "#    ('scale_feats', StandardScaler())\n",
    "])\n",
    "\n",
    "## Step 2: Other Numeric Columns ##\n",
    "other_numerical = ColumnTransformer(\n",
    "    transformers = [\n",
    "        ('impute_other', SimpleImputer(strategy=\"mean\", copy=False), other_num_cols),\n",
    "    ],\n",
    "    remainder='drop'\n",
    ")\n",
    "\n",
    "step2 = Pipeline([\n",
    "    ('other_nums', other_numerical),\n",
    "#    ('scale_other', StandardScaler())\n",
    "])\n",
    "\n",
    "## Step 3: Categorical Columns ## \n",
    "categorical = ColumnTransformer(\n",
    "    transformers = [\n",
    "        ('impute_cats', SimpleImputer(strategy=\"most_frequent\", copy=False), cat_cols),\n",
    "    ],\n",
    "    remainder='drop'\n",
    ")\n",
    "\n",
    "step3 = Pipeline([\n",
    "    ('categ', categorical),\n",
    "    ('encode', OneHotEncoder(handle_unknown='ignore'))\n",
    "])\n",
    "\n",
    "## Step 4: Missing indicators \n",
    "other_missing = ColumnTransformer(\n",
    "    transformers = [\n",
    "        ('other_missing', MissingIndicator(features='all'), other_num_cols)\n",
    "    ],\n",
    "    remainder='drop'\n",
    ")\n",
    "\n",
    "category_missing = ColumnTransformer(\n",
    "    transformers = [\n",
    "        ('cat_missing', MissingIndicator(features='all'), cat_cols)\n",
    "    ],\n",
    "    remainder='drop'\n",
    ")\n",
    "\n",
    "## Step 5: Unify ##     \n",
    "unify = FeatureUnion([\n",
    "    ('new_features', step1 ),\n",
    "    ('numeric_scale', step2), \n",
    "    ('categoric_encode', step3),\n",
    "#    ('num_missing_indicator', other_missing),\n",
    "#    ('cat_missing_indicator', category_missing)\n",
    "])\n",
    "\n",
    "final_pipeline = Pipeline([\n",
    "    ('finally', unify)\n",
    "])\n",
    "\n",
    "## Just checking\n",
    "#f = final_pipeline.fit_transform(hprObject.train)\n",
    "#type(f)"
   ]
  },
  {
   "cell_type": "markdown",
   "metadata": {},
   "source": [
    "# Model Parameters\n",
    "\n",
    "The \"prepared\" data is now split (simply) into training / validation sets. The dataset for this competition is very small, so I was hesitant to make the test set much larger. \n",
    "I also specify a few parameters for both SVR() and RandomForestRegressor(). You'll see why the nested diciontary is necessary in a moment. "
   ]
  },
  {
   "cell_type": "code",
   "execution_count": 68,
   "metadata": {},
   "outputs": [],
   "source": [
    "# split train into train and validation set\n",
    "X_train, X_val, y_train, y_val = train_test_split(hprObject.train, hprObject.price_labels, test_size = 0.2)\n",
    "\n",
    "# list names of regressors\n",
    "names = [\n",
    "         \"Support-Vector Regressor\",\n",
    "         \"Random Forest Regressor\"\n",
    "        ]\n",
    "\n",
    "regressors = [\n",
    "    SVR(),\n",
    "    RandomForestRegressor()\n",
    "]\n",
    "\n",
    "parameters = [\n",
    "                  {\n",
    "                      'reg__C': (reciprocal(0.001, 0.1)), \n",
    "                      'reg__gamma': (uniform(1, 10))\n",
    "                  },\n",
    "                  {\n",
    "                      'reg__max_depth': (5,10,15)\n",
    "                  }\n",
    "             ]"
   ]
  },
  {
   "cell_type": "markdown",
   "metadata": {},
   "source": [
    "## Model\n",
    "I wanted to have the ability to run multiple models on the same pipeline. Someone (I forget the link) posted some code on StackOverFlow; I've adapted it here. Essentially, a pipeline is appended within a for-loop with different regressors. The pipeline is fit with the training data, scored, and the model is saved in the 'model_list' dictionary for future use. I also use RandomizedGridSearch instead of ordinary GridSearch because...I'm cool :) ."
   ]
  },
  {
   "cell_type": "code",
   "execution_count": 69,
   "metadata": {},
   "outputs": [
    {
     "name": "stderr",
     "output_type": "stream",
     "text": [
      "/home/gopherguy14/anaconda3/envs/kaggle_comps/lib/python3.6/site-packages/sklearn/model_selection/_split.py:1978: FutureWarning: The default value of cv will change from 3 to 5 in version 0.22. Specify it explicitly to silence this warning.\n",
      "  warnings.warn(CV_WARNING, FutureWarning)\n",
      "[Parallel(n_jobs=1)]: Using backend SequentialBackend with 1 concurrent workers.\n"
     ]
    },
    {
     "name": "stdout",
     "output_type": "stream",
     "text": [
      "Fitting 3 folds for each of 10 candidates, totalling 30 fits\n",
      "[CV] reg__C=0.005611516415334503, reg__gamma=10.50714306409916 .......\n",
      "[CV]  reg__C=0.005611516415334503, reg__gamma=10.50714306409916, total=   0.3s\n",
      "[CV] reg__C=0.005611516415334503, reg__gamma=10.50714306409916 .......\n"
     ]
    },
    {
     "name": "stderr",
     "output_type": "stream",
     "text": [
      "[Parallel(n_jobs=1)]: Done   1 out of   1 | elapsed:    0.3s remaining:    0.0s\n"
     ]
    },
    {
     "name": "stdout",
     "output_type": "stream",
     "text": [
      "[CV]  reg__C=0.005611516415334503, reg__gamma=10.50714306409916, total=   0.3s\n",
      "[CV] reg__C=0.005611516415334503, reg__gamma=10.50714306409916 .......\n",
      "[CV]  reg__C=0.005611516415334503, reg__gamma=10.50714306409916, total=   0.3s\n",
      "[CV] reg__C=0.029106359131330688, reg__gamma=6.986584841970366 .......\n",
      "[CV]  reg__C=0.029106359131330688, reg__gamma=6.986584841970366, total=   0.3s\n",
      "[CV] reg__C=0.029106359131330688, reg__gamma=6.986584841970366 .......\n",
      "[CV]  reg__C=0.029106359131330688, reg__gamma=6.986584841970366, total=   0.3s\n",
      "[CV] reg__C=0.029106359131330688, reg__gamma=6.986584841970366 .......\n",
      "[CV]  reg__C=0.029106359131330688, reg__gamma=6.986584841970366, total=   0.3s\n",
      "[CV] reg__C=0.0020513382630874496, reg__gamma=2.5599452033620267 .....\n",
      "[CV]  reg__C=0.0020513382630874496, reg__gamma=2.5599452033620267, total=   0.3s\n",
      "[CV] reg__C=0.0020513382630874496, reg__gamma=2.5599452033620267 .....\n",
      "[CV]  reg__C=0.0020513382630874496, reg__gamma=2.5599452033620267, total=   0.3s\n",
      "[CV] reg__C=0.0020513382630874496, reg__gamma=2.5599452033620267 .....\n",
      "[CV]  reg__C=0.0020513382630874496, reg__gamma=2.5599452033620267, total=   0.3s\n",
      "[CV] reg__C=0.0013066739238053278, reg__gamma=9.661761457749352 ......\n",
      "[CV]  reg__C=0.0013066739238053278, reg__gamma=9.661761457749352, total=   0.3s\n",
      "[CV] reg__C=0.0013066739238053278, reg__gamma=9.661761457749352 ......\n",
      "[CV]  reg__C=0.0013066739238053278, reg__gamma=9.661761457749352, total=   0.3s\n",
      "[CV] reg__C=0.0013066739238053278, reg__gamma=9.661761457749352 ......\n",
      "[CV]  reg__C=0.0013066739238053278, reg__gamma=9.661761457749352, total=   0.3s\n",
      "[CV] reg__C=0.01593052261624101, reg__gamma=8.080725777960454 ........\n",
      "[CV]  reg__C=0.01593052261624101, reg__gamma=8.080725777960454, total=   0.3s\n",
      "[CV] reg__C=0.01593052261624101, reg__gamma=8.080725777960454 ........\n",
      "[CV]  reg__C=0.01593052261624101, reg__gamma=8.080725777960454, total=   0.3s\n",
      "[CV] reg__C=0.01593052261624101, reg__gamma=8.080725777960454 ........\n",
      "[CV]  reg__C=0.01593052261624101, reg__gamma=8.080725777960454, total=   0.3s\n",
      "[CV] reg__C=0.0010994335574766197, reg__gamma=10.699098521619943 .....\n",
      "[CV]  reg__C=0.0010994335574766197, reg__gamma=10.699098521619943, total=   0.3s\n",
      "[CV] reg__C=0.0010994335574766197, reg__gamma=10.699098521619943 .....\n",
      "[CV]  reg__C=0.0010994335574766197, reg__gamma=10.699098521619943, total=   0.3s\n",
      "[CV] reg__C=0.0010994335574766197, reg__gamma=10.699098521619943 .....\n",
      "[CV]  reg__C=0.0010994335574766197, reg__gamma=10.699098521619943, total=   0.3s\n",
      "[CV] reg__C=0.046225890010208284, reg__gamma=3.1233911067827616 ......\n",
      "[CV]  reg__C=0.046225890010208284, reg__gamma=3.1233911067827616, total=   0.3s\n",
      "[CV] reg__C=0.046225890010208284, reg__gamma=3.1233911067827616 ......\n",
      "[CV]  reg__C=0.046225890010208284, reg__gamma=3.1233911067827616, total=   0.3s\n",
      "[CV] reg__C=0.046225890010208284, reg__gamma=3.1233911067827616 ......\n",
      "[CV]  reg__C=0.046225890010208284, reg__gamma=3.1233911067827616, total=   0.3s\n",
      "[CV] reg__C=0.002310201887845293, reg__gamma=2.834045098534338 .......\n",
      "[CV]  reg__C=0.002310201887845293, reg__gamma=2.834045098534338, total=   0.3s\n",
      "[CV] reg__C=0.002310201887845293, reg__gamma=2.834045098534338 .......\n",
      "[CV]  reg__C=0.002310201887845293, reg__gamma=2.834045098534338, total=   0.3s\n",
      "[CV] reg__C=0.002310201887845293, reg__gamma=2.834045098534338 .......\n",
      "[CV]  reg__C=0.002310201887845293, reg__gamma=2.834045098534338, total=   0.3s\n",
      "[CV] reg__C=0.004059611610484304, reg__gamma=6.247564316322379 .......\n",
      "[CV]  reg__C=0.004059611610484304, reg__gamma=6.247564316322379, total=   0.3s\n",
      "[CV] reg__C=0.004059611610484304, reg__gamma=6.247564316322379 .......\n",
      "[CV]  reg__C=0.004059611610484304, reg__gamma=6.247564316322379, total=   0.3s\n",
      "[CV] reg__C=0.004059611610484304, reg__gamma=6.247564316322379 .......\n",
      "[CV]  reg__C=0.004059611610484304, reg__gamma=6.247564316322379, total=   0.3s\n",
      "[CV] reg__C=0.0073095398359129095, reg__gamma=3.9122914019804194 .....\n",
      "[CV]  reg__C=0.0073095398359129095, reg__gamma=3.9122914019804194, total=   0.3s\n",
      "[CV] reg__C=0.0073095398359129095, reg__gamma=3.9122914019804194 .....\n",
      "[CV]  reg__C=0.0073095398359129095, reg__gamma=3.9122914019804194, total=   0.3s\n",
      "[CV] reg__C=0.0073095398359129095, reg__gamma=3.9122914019804194 .....\n",
      "[CV]  reg__C=0.0073095398359129095, reg__gamma=3.9122914019804194, total=   0.3s\n"
     ]
    },
    {
     "name": "stderr",
     "output_type": "stream",
     "text": [
      "[Parallel(n_jobs=1)]: Done  30 out of  30 | elapsed:    8.1s finished\n"
     ]
    },
    {
     "name": "stdout",
     "output_type": "stream",
     "text": [
      "Support-Vector Regressor score: -0.1424979536115849\n",
      "Fitting 3 folds for each of 3 candidates, totalling 9 fits\n",
      "[CV] reg__max_depth=5 ................................................\n",
      "[CV] ................................. reg__max_depth=5, total=   0.2s\n",
      "[CV] reg__max_depth=5 ................................................\n"
     ]
    },
    {
     "name": "stderr",
     "output_type": "stream",
     "text": [
      "/home/gopherguy14/anaconda3/envs/kaggle_comps/lib/python3.6/site-packages/sklearn/model_selection/_split.py:1978: FutureWarning: The default value of cv will change from 3 to 5 in version 0.22. Specify it explicitly to silence this warning.\n",
      "  warnings.warn(CV_WARNING, FutureWarning)\n",
      "/home/gopherguy14/anaconda3/envs/kaggle_comps/lib/python3.6/site-packages/sklearn/model_selection/_search.py:266: UserWarning: The total space of parameters 3 is smaller than n_iter=10. Running 3 iterations. For exhaustive searches, use GridSearchCV.\n",
      "  % (grid_size, self.n_iter, grid_size), UserWarning)\n",
      "[Parallel(n_jobs=1)]: Using backend SequentialBackend with 1 concurrent workers.\n",
      "/home/gopherguy14/anaconda3/envs/kaggle_comps/lib/python3.6/site-packages/sklearn/ensemble/forest.py:245: FutureWarning: The default value of n_estimators will change from 10 in version 0.20 to 100 in 0.22.\n",
      "  \"10 in version 0.20 to 100 in 0.22.\", FutureWarning)\n",
      "[Parallel(n_jobs=1)]: Done   1 out of   1 | elapsed:    0.2s remaining:    0.0s\n",
      "/home/gopherguy14/anaconda3/envs/kaggle_comps/lib/python3.6/site-packages/sklearn/ensemble/forest.py:245: FutureWarning: The default value of n_estimators will change from 10 in version 0.20 to 100 in 0.22.\n",
      "  \"10 in version 0.20 to 100 in 0.22.\", FutureWarning)\n",
      "/home/gopherguy14/anaconda3/envs/kaggle_comps/lib/python3.6/site-packages/sklearn/ensemble/forest.py:245: FutureWarning: The default value of n_estimators will change from 10 in version 0.20 to 100 in 0.22.\n",
      "  \"10 in version 0.20 to 100 in 0.22.\", FutureWarning)\n"
     ]
    },
    {
     "name": "stdout",
     "output_type": "stream",
     "text": [
      "[CV] ................................. reg__max_depth=5, total=   0.2s\n",
      "[CV] reg__max_depth=5 ................................................\n",
      "[CV] ................................. reg__max_depth=5, total=   0.2s\n",
      "[CV] reg__max_depth=10 ...............................................\n"
     ]
    },
    {
     "name": "stderr",
     "output_type": "stream",
     "text": [
      "/home/gopherguy14/anaconda3/envs/kaggle_comps/lib/python3.6/site-packages/sklearn/ensemble/forest.py:245: FutureWarning: The default value of n_estimators will change from 10 in version 0.20 to 100 in 0.22.\n",
      "  \"10 in version 0.20 to 100 in 0.22.\", FutureWarning)\n"
     ]
    },
    {
     "name": "stdout",
     "output_type": "stream",
     "text": [
      "[CV] ................................ reg__max_depth=10, total=   0.4s\n",
      "[CV] reg__max_depth=10 ...............................................\n"
     ]
    },
    {
     "name": "stderr",
     "output_type": "stream",
     "text": [
      "/home/gopherguy14/anaconda3/envs/kaggle_comps/lib/python3.6/site-packages/sklearn/ensemble/forest.py:245: FutureWarning: The default value of n_estimators will change from 10 in version 0.20 to 100 in 0.22.\n",
      "  \"10 in version 0.20 to 100 in 0.22.\", FutureWarning)\n"
     ]
    },
    {
     "name": "stdout",
     "output_type": "stream",
     "text": [
      "[CV] ................................ reg__max_depth=10, total=   0.4s\n",
      "[CV] reg__max_depth=10 ...............................................\n"
     ]
    },
    {
     "name": "stderr",
     "output_type": "stream",
     "text": [
      "/home/gopherguy14/anaconda3/envs/kaggle_comps/lib/python3.6/site-packages/sklearn/ensemble/forest.py:245: FutureWarning: The default value of n_estimators will change from 10 in version 0.20 to 100 in 0.22.\n",
      "  \"10 in version 0.20 to 100 in 0.22.\", FutureWarning)\n"
     ]
    },
    {
     "name": "stdout",
     "output_type": "stream",
     "text": [
      "[CV] ................................ reg__max_depth=10, total=   0.4s\n",
      "[CV] reg__max_depth=15 ...............................................\n"
     ]
    },
    {
     "name": "stderr",
     "output_type": "stream",
     "text": [
      "/home/gopherguy14/anaconda3/envs/kaggle_comps/lib/python3.6/site-packages/sklearn/ensemble/forest.py:245: FutureWarning: The default value of n_estimators will change from 10 in version 0.20 to 100 in 0.22.\n",
      "  \"10 in version 0.20 to 100 in 0.22.\", FutureWarning)\n"
     ]
    },
    {
     "name": "stdout",
     "output_type": "stream",
     "text": [
      "[CV] ................................ reg__max_depth=15, total=   0.5s\n",
      "[CV] reg__max_depth=15 ...............................................\n"
     ]
    },
    {
     "name": "stderr",
     "output_type": "stream",
     "text": [
      "/home/gopherguy14/anaconda3/envs/kaggle_comps/lib/python3.6/site-packages/sklearn/ensemble/forest.py:245: FutureWarning: The default value of n_estimators will change from 10 in version 0.20 to 100 in 0.22.\n",
      "  \"10 in version 0.20 to 100 in 0.22.\", FutureWarning)\n"
     ]
    },
    {
     "name": "stdout",
     "output_type": "stream",
     "text": [
      "[CV] ................................ reg__max_depth=15, total=   0.5s\n",
      "[CV] reg__max_depth=15 ...............................................\n"
     ]
    },
    {
     "name": "stderr",
     "output_type": "stream",
     "text": [
      "/home/gopherguy14/anaconda3/envs/kaggle_comps/lib/python3.6/site-packages/sklearn/ensemble/forest.py:245: FutureWarning: The default value of n_estimators will change from 10 in version 0.20 to 100 in 0.22.\n",
      "  \"10 in version 0.20 to 100 in 0.22.\", FutureWarning)\n"
     ]
    },
    {
     "name": "stdout",
     "output_type": "stream",
     "text": [
      "[CV] ................................ reg__max_depth=15, total=   0.5s\n"
     ]
    },
    {
     "name": "stderr",
     "output_type": "stream",
     "text": [
      "[Parallel(n_jobs=1)]: Done   9 out of   9 | elapsed:    3.2s finished\n",
      "/home/gopherguy14/anaconda3/envs/kaggle_comps/lib/python3.6/site-packages/sklearn/ensemble/forest.py:245: FutureWarning: The default value of n_estimators will change from 10 in version 0.20 to 100 in 0.22.\n",
      "  \"10 in version 0.20 to 100 in 0.22.\", FutureWarning)\n"
     ]
    },
    {
     "name": "stdout",
     "output_type": "stream",
     "text": [
      "Random Forest Regressor score: -0.0383608577082632\n"
     ]
    }
   ],
   "source": [
    "# Pass pipeline, names, regressors, parameters, and training/validation data\n",
    "# basically it's a wrapper for pipeline.fit()\n",
    "hprObject.run_pipeline(pipe=final_pipeline,\n",
    "                       names=names, \n",
    "                       regressors=regressors, \n",
    "                       parameters=parameters, \n",
    "                       X_train=X_train,\n",
    "                       X_val=X_val,\n",
    "                       y_train=y_train,\n",
    "                       y_val=y_val)\n"
   ]
  },
  {
   "cell_type": "markdown",
   "metadata": {},
   "source": [
    "\n",
    "#### Best SVR Parameters"
   ]
  },
  {
   "cell_type": "code",
   "execution_count": 70,
   "metadata": {},
   "outputs": [
    {
     "data": {
      "text/plain": [
       "{'reg__C': 0.046225890010208284, 'reg__gamma': 3.1233911067827616}"
      ]
     },
     "execution_count": 70,
     "metadata": {},
     "output_type": "execute_result"
    }
   ],
   "source": [
    "hprObject.model_list['Support-Vector Regressor'].best_params_"
   ]
  },
  {
   "cell_type": "markdown",
   "metadata": {},
   "source": [
    "#### Best RF Parameters"
   ]
  },
  {
   "cell_type": "code",
   "execution_count": 71,
   "metadata": {},
   "outputs": [
    {
     "data": {
      "text/plain": [
       "{'reg__max_depth': 15}"
      ]
     },
     "execution_count": 71,
     "metadata": {},
     "output_type": "execute_result"
    }
   ],
   "source": [
    "hprObject.model_list['Random Forest Regressor'].best_params_"
   ]
  },
  {
   "cell_type": "markdown",
   "metadata": {},
   "source": [
    "# Shapley values from the SHAP module\n",
    "\n",
    "Previously, I had used feature importance / partial dependency plots to evaluate some of my features. But I have found a better method: shapely values. Shapley values fullfill four critereia that are critical for explainability: \n",
    "\n",
    "1. Efficiency\n",
    "2. Symmetry\n",
    "3. Dummy\n",
    "4. Additivity\n",
    "\n",
    "Shapely values explains the average contribution of a feature to the prediction over a variety of different cohorts (subsets) of features.  \n",
    "The shap module (which stands for SHapley Additive exPlanations) speeds up the process of calculating shapley values by performing some interpolation. \n",
    "\n",
    "Useful tips: \n",
    "\n",
    "1. Navigate your pipeline using 'named_steps['name'].transformer_list. I was able to find the one-hot-encoded names this way\n",
    "2. shap can handle dataframes\n",
    "3. Scipy.sparse_matrix can be converted to a dense array by .toarray()"
   ]
  },
  {
   "cell_type": "markdown",
   "metadata": {},
   "source": [
    "### Generate Names"
   ]
  },
  {
   "cell_type": "code",
   "execution_count": 72,
   "metadata": {},
   "outputs": [],
   "source": [
    "## Transform the Validation Set\n",
    "X_train_prepared = final_pipeline.fit_transform(X_train)\n",
    "y_train_values = y_train.values\n",
    "\n",
    "## requires dense matrix\n",
    "X_val_prepared = final_pipeline.transform(X_val)\n",
    "X_val_prepared = X_val_prepared.toarray()\n",
    "y_val_values = y_val.values\n",
    "\n",
    "ohe_names = hprObject.reg_pipe.named_steps['pipeline'].named_steps['finally'].transformer_list[2][1].named_steps['encode'].get_feature_names().tolist()\n",
    "num_missing_names = [ i + str('_missing') for i in other_num_cols ]\n",
    "cat_missing_names = cat_cols\n",
    "#data_names = feat_eng_names + other_num_cols + ohe_names + num_missing_names + cat_missing_names\n",
    "data_names = feat_eng_names + other_num_cols + ohe_names"
   ]
  },
  {
   "cell_type": "markdown",
   "metadata": {},
   "source": [
    "### Create Dataframe"
   ]
  },
  {
   "cell_type": "code",
   "execution_count": 73,
   "metadata": {},
   "outputs": [],
   "source": [
    "## Convert this into a pandas dataframe\n",
    "X_val_df = pd.DataFrame(data=X_val_prepared, columns=data_names, index=[i for i in range(0, 292)])"
   ]
  },
  {
   "cell_type": "markdown",
   "metadata": {},
   "source": [
    "### Fit Estimator Outside of Pipeline"
   ]
  },
  {
   "cell_type": "code",
   "execution_count": 74,
   "metadata": {},
   "outputs": [
    {
     "name": "stderr",
     "output_type": "stream",
     "text": [
      "/home/gopherguy14/anaconda3/envs/kaggle_comps/lib/python3.6/site-packages/sklearn/ensemble/forest.py:245: FutureWarning: The default value of n_estimators will change from 10 in version 0.20 to 100 in 0.22.\n",
      "  \"10 in version 0.20 to 100 in 0.22.\", FutureWarning)\n"
     ]
    }
   ],
   "source": [
    "## Interestingly, SVR() doesn't seem to work very well. Perhaps I need to perform dimension reduction\n",
    "## on the training set\n",
    "#svr_model = SVR(gamma = model_list['Support-Vector Regressor'].best_params_[\"reg__gamma\"], \n",
    "#    C = model_list['Support-Vector Regressor'].best_params_[\"reg__C\"]).fit(X_train_prepared, y_train_values)\n",
    "\n",
    "rf_model = RandomForestRegressor(max_depth = hprObject.model_list['Random Forest Regressor'].best_params_[\"reg__max_depth\"]).fit(X_train_prepared, y_train_values)\n"
   ]
  },
  {
   "cell_type": "markdown",
   "metadata": {},
   "source": [
    "## Calculate Shapley Values"
   ]
  },
  {
   "cell_type": "code",
   "execution_count": 75,
   "metadata": {},
   "outputs": [],
   "source": [
    "explainer = shap.TreeExplainer(rf_model)\n",
    "shap_values = explainer.shap_values(X_val_df)"
   ]
  },
  {
   "cell_type": "markdown",
   "metadata": {},
   "source": [
    "The figure below is a summary of the shapely values for the top features learned by our model. 'OverallQual' has the highest, _average_ contribution to the predicted sales price. 'GrLivArea' is 2nd, with more of a continuous distribution. In general, it looks like 'low' values of features contribute to lower values of the response and 'high' values of features contribute to higher values of the response. There are some exceptions, like 'x24_Unf' for instance. "
   ]
  },
  {
   "cell_type": "code",
   "execution_count": 76,
   "metadata": {},
   "outputs": [
    {
     "data": {
      "image/png": "[encoded data removed]",
      "text/plain": [
       "<Figure size 576x684 with 2 Axes>"
      ]
     },
     "metadata": {
      "needs_background": "light"
     },
     "output_type": "display_data"
    }
   ],
   "source": [
    "shap.summary_plot(shap_values, X_val_df)"
   ]
  },
  {
   "cell_type": "markdown",
   "metadata": {},
   "source": [
    "It is possible to examine the interaction between two features. Here, we look at 'GrLivArea' and 'OverallQual'. The values of 'GrLivArea' are along the x-axis and the values of 'OverallQual' are plotted as colors. This graph shows us that there is a linear relationship bewteen GrLivArea and the sales price of the home. It looks like there is an interaction between the overal quality of the home nad the ground living area of the home."
   ]
  },
  {
   "cell_type": "code",
   "execution_count": 77,
   "metadata": {},
   "outputs": [
    {
     "data": {
      "image/png": "[encoded data removed]",
      "text/plain": [
       "<Figure size 540x360 with 2 Axes>"
      ]
     },
     "metadata": {
      "needs_background": "light"
     },
     "output_type": "display_data"
    }
   ],
   "source": [
    "shap.dependence_plot(\"GrLivArea\", shap_values, X_val_df)"
   ]
  },
  {
   "cell_type": "markdown",
   "metadata": {},
   "source": [
    "Anything built before 1960 will decrease the sale price. Interestingly, houses with high 'overall quality' built recently do not affect the sales price very much.    "
   ]
  },
  {
   "cell_type": "code",
   "execution_count": 78,
   "metadata": {},
   "outputs": [
    {
     "data": {
      "image/png": "[encoded data removed]",
      "text/plain": [
       "<Figure size 540x360 with 2 Axes>"
      ]
     },
     "metadata": {
      "needs_background": "light"
     },
     "output_type": "display_data"
    }
   ],
   "source": [
    "shap.dependence_plot(\"YearBuilt\", shap_values, X_val_df)"
   ]
  },
  {
   "cell_type": "markdown",
   "metadata": {},
   "source": [
    "# Final Fit\n",
    "I am choosing to use the Random Forest model because its final score in my cross-validation scheme was much lower than than the SVM (-0.019 vs -0.148). Granted, I did not tune my hyperparameters *very well* and there are definitely more hyperparameters to choose from. I also think that I may need to perform some dimension reduction or eliminate the \"missing indicators\" for the SVM; when I tried to generate predictions from the SVM all that it predicted was the same value over and over. "
   ]
  },
  {
   "cell_type": "code",
   "execution_count": 82,
   "metadata": {},
   "outputs": [],
   "source": [
    "# Last pipe - using \"tuned\" hyperparameters for Random Forest (yes, much more tuning could be done!)\n",
    "alldata_pipe = Pipeline([\n",
    "       ('pipeline', final_pipeline),\n",
    "       ('select', VarianceThreshold(0.15)),\n",
    "       #('rf', RandomForestRegressor(\n",
    "       #     max_depth=hprObject.model_list['Random Forest Regressor'].best_params_[\"reg__max_depth\"]\n",
    "       # ))\n",
    "       ('svm', SVR(\n",
    "           gamma=hprObject.model_list['Support-Vector Regressor'].best_params_['reg__gamma'],\n",
    "           C=hprObject.model_list['Support-Vector Regressor'].best_params_['reg__C']\n",
    "       ))\n",
    "    ])\n",
    "\n",
    "# The final estimator, RandomForestRegressor(), does not have a .fit_transform method\n",
    "final_model = alldata_pipe.fit(hprObject.train, hprObject.price_labels.values)\n",
    "\n",
    "# And ta da! We have our predictions\n",
    "log_predictions = final_model.predict(hprObject.test)"
   ]
  },
  {
   "cell_type": "markdown",
   "metadata": {
    "_uuid": "a041e93a9736cae6db4444249b1849f08302e934"
   },
   "source": [
    "## Generate Submission File"
   ]
  },
  {
   "cell_type": "markdown",
   "metadata": {},
   "source": [
    "Here I convert back from log+1 dollars back to regular dollars. "
   ]
  },
  {
   "cell_type": "code",
   "execution_count": 83,
   "metadata": {
    "_uuid": "4fbf36d06564d7fa2ae9432ee19da07d3ffeeaa9"
   },
   "outputs": [
    {
     "data": {
      "text/plain": [
       "array([162179.04122934, 162179.04122934, 162179.04122934, ...,\n",
       "       162179.04122934, 162179.04122934, 162179.04122934])"
      ]
     },
     "execution_count": 83,
     "metadata": {},
     "output_type": "execute_result"
    }
   ],
   "source": [
    "predictions = (np.exp(log_predictions) - 1)\n",
    "predictions"
   ]
  },
  {
   "cell_type": "markdown",
   "metadata": {},
   "source": [
    "Submission Complete! "
   ]
  },
  {
   "cell_type": "code",
   "execution_count": 84,
   "metadata": {},
   "outputs": [],
   "source": [
    "hprObject.submission['SalePrice'] = pd.Series(predictions, index=hprObject.submission.index)\n",
    "hprObject.submission.to_csv('submission5cJune2019.csv',index=False)"
   ]
  },
  {
   "cell_type": "code",
   "execution_count": null,
   "metadata": {},
   "outputs": [],
   "source": []
  }
 ],
 "metadata": {
  "anaconda-cloud": {},
  "kernelspec": {
   "display_name": "Python 3",
   "language": "python",
   "name": "python3"
  },
  "language_info": {
   "codemirror_mode": {
    "name": "ipython",
    "version": 3
   },
   "file_extension": ".py",
   "mimetype": "text/x-python",
   "name": "python",
   "nbconvert_exporter": "python",
   "pygments_lexer": "ipython3",
   "version": "3.6.8"
  }
 },
 "nbformat": 4,
 "nbformat_minor": 1
}
