{
 "cells": [
  {
   "cell_type": "markdown",
   "metadata": {
    "_uuid": "7fad15a600d8a4b8a0e8a23fef765b8b578b0596"
   },
   "source": [
    "# Introduction\n",
    "I had previously written a short kernel to practice Python. My \"native language\" is R, but the benefits of using Python are too great to ignore. In this notebook, I revist the same dataset but attempt several additional techniques, including: \n",
    "1. Pre-process with object-oriented programming\n",
    "2. Create Pipeline\n",
    "3. Use Shapley values via the shap package\n",
    "4. running multiple aglorithms through a pipeline\n",
    "\n",
    "The individual elements could be the subject af a kernel all to themselves, but I am choosing to make each occupy a section within this Kernel. I hope this helps you on your python journey! "
   ]
  },
  {
   "cell_type": "markdown",
   "metadata": {
    "_uuid": "20a145f3146cd2976f0ab5a8c58ac148170b9710"
   },
   "source": [
    "# Import Libraries"
   ]
  },
  {
   "cell_type": "code",
   "execution_count": 99,
   "metadata": {
    "_cell_guid": "b1076dfc-b9ad-4769-8c92-a6c4dae69d19",
    "_uuid": "8f2839f25d086af736a60e9eeb907d3b93b6e0e5"
   },
   "outputs": [],
   "source": [
    "# Import Libraries\n",
    "import pandas as pd\n",
    "import numpy as np\n",
    "from subprocess import check_output\n",
    "from sklearn.base import BaseEstimator, TransformerMixin\n",
    "from sklearn.decomposition import PCA, SparsePCA\n",
    "from sklearn.preprocessing import FunctionTransformer, OneHotEncoder, Imputer, StandardScaler, RobustScaler, PolynomialFeatures\n",
    "from sklearn.pipeline import FeatureUnion, Pipeline\n",
    "from sklearn.model_selection import train_test_split\n",
    "from sklearn.model_selection import RandomizedSearchCV\n",
    "from sklearn.metrics import mean_squared_error\n",
    "from sklearn.impute import SimpleImputer, MissingIndicator \n",
    "from sklearn.feature_selection import VarianceThreshold\n",
    "from sklearn.compose import ColumnTransformer\n",
    "from sklearn.svm import SVR\n",
    "from sklearn.ensemble import RandomForestRegressor, IsolationForest\n",
    "from gplearn.genetic import SymbolicTransformer, SymbolicRegressor\n",
    "%matplotlib inline\n",
    "import matplotlib\n",
    "import matplotlib.pyplot as plt\n",
    "from scipy.stats import reciprocal, uniform\n",
    "import functools\n",
    "import shap"
   ]
  },
  {
   "cell_type": "markdown",
   "metadata": {
    "_uuid": "6c27632dd1c175006c86049bba665ae304d5068d"
   },
   "source": [
    "# Dictionaries"
   ]
  },
  {
   "cell_type": "markdown",
   "metadata": {
    "_uuid": "2c9977d2d8d7ae50e2a5129cf3f368e87e6cb6f9"
   },
   "source": [
    "Below is a dictionary which contains specific values for each column. This was initially performed by another user on Kaggle -- if someone happens to know who made these dicionaries initially then I will edit this notebook and provide proper attribution.  My contribution was to coalesce all of the user's individual dictionaries into one. "
   ]
  },
  {
   "cell_type": "code",
   "execution_count": 100,
   "metadata": {
    "_uuid": "de20ffb3ea9c86109148b3b202ce0e48f516436f"
   },
   "outputs": [],
   "source": [
    "replacement_dict = {\"MoSold\" : {1 : \"Jan\", 2 : \"Feb\", 3 : \"Mar\", 4 : \"Apr\", 5 : \"May\", 6 : \"Jun\", 7 : \"Jul\", 8 : \"Aug\", 9 : \"Sep\", 10 : \"Oct\", 11 : \"Nov\", 12 : \"Dec\"},\n",
    "            \"SaleCondition\" : {\"Abnorml\" : 0, \"Alloca\" : 0, \"AdjLand\" : 0, \"Family\" : 0, \"Normal\" : 0, \"Partial\" : 1},\n",
    "            \"ExterCond\" : {\"Po\" : 1, \"Fa\" : 2, \"TA\": 3, \"Gd\": 4, \"Ex\" : 5},\n",
    "            \"ExterQual\" : {\"Po\" : 1, \"Fa\" : 2, \"TA\": 3, \"Gd\": 4, \"Ex\" : 5},\n",
    "            \"Functional\" : {\"Sal\" : 1, \"Sev\" : 2, \"Maj2\" : 3, \"Maj1\" : 4, \"Mod\": 5, \"Min2\" : 6, \"Min1\" : 7, \"Typ\" : 8},\n",
    "            \"HeatingQC\" : {\"Po\" : 1, \"Fa\" : 2, \"TA\" : 3, \"Gd\" : 4, \"Ex\" : 5},\n",
    "            \"KitchenQual\" : {\"Po\" : 1, \"Fa\" : 2, \"TA\" : 3, \"Gd\" : 4, \"Ex\" : 5},\n",
    "            \"LandSlope\" : {\"Sev\" : 1, \"Mod\" : 2, \"Gtl\" : 3},\n",
    "            \"LotShape\" : {\"IR3\" : 1, \"IR2\" : 2, \"IR1\" : 3, \"Reg\" : 4},\n",
    "            \"PavedDrive\" : {\"N\" : 0, \"P\" : 1, \"Y\" : 2},\n",
    "            \"Street\" : {\"Grvl\" : 1, \"Pave\" : 2},\n",
    "            \"Utilities\" : {\"ELO\" : 1, \"NoSeWa\" : 2, \"NoSewr\" : 3, \"AllPub\" : 4},\n",
    "  #          \"OverallQual\" : {1 : 1, 2 : 1, 3 : 1, # bad\n",
    "  #                         4 : 2, 5 : 2, 6 : 2, # average\n",
    "  #                         7 : 3, 8 : 3, 9 : 3, 10 : 3 # good\n",
    "  #                        },\n",
    "  #          \"OverallCond\" : {1 : 1, 2 : 1, 3 : 1, # bad\n",
    "  #                                    4 : 2, 5 : 2, 6 : 2, # average\n",
    "  #                                    7 : 3, 8 : 3, 9 : 3, 10 : 3 # good\n",
    "  #                                   },\n",
    "  #  \"ModExterCond\" : {1 : 1, # bad\n",
    "  #                                                 2 : 1, 3 : 1, # average\n",
    "  #                                                 4 : 2, 5 : 2 # good\n",
    "  #                                                },\n",
    "  #  \"ModExterQual\" : {1 : 1, # bad\n",
    "  #                                                 2 : 1, 3 : 1, # average\n",
    "  #                                                 4 : 2, 5 : 2 # good\n",
    "  #                                                },\n",
    "  #  \"ModFunctional\" : {1 : 1, 2 : 1, # bad\n",
    "  #                                                   3 : 2, 4 : 2, # major\n",
    "  #                                                   5 : 3, 6 : 3, 7 : 3, # minor\n",
    "  #                                                   8 : 4 # typical\n",
    "  #                                                  },\n",
    "  #  \"ModKitchenQual\" : {1 : 1, # bad\n",
    "  #                                                    2 : 1, 3 : 1, # average\n",
    "  #                                                     4 : 2, 5 : 2 # good\n",
    "  #                                                    },\n",
    "  #  \"ModHeatingQC\" : {1 : 1, # bad\n",
    "  #                                                 2 : 1, 3 : 1, # average\n",
    "  #                                                 4 : 2, 5 : 2 # good\n",
    "  #                                                }   \n",
    "}"
   ]
  },
  {
   "cell_type": "markdown",
   "metadata": {
    "_uuid": "b1b1c6122c57550ddaad078e394524e7c8bf34a0"
   },
   "source": [
    "# Pre-process with Object Oriented Programming"
   ]
  },
  {
   "cell_type": "markdown",
   "metadata": {
    "_uuid": "319646cf9658217dd5c3a507168835e2451d7be4"
   },
   "source": [
    "I have learned that there are many benefits to using OOP with Python. It makes code more readable, reproducible, testable, etc. For this section, I create a python class specifically for this competition to handle the \"pre-processing\" of the data. What I mean by \"pre-processing\" is making the training and testing sets equivalent in form. This class contains functions to: \n",
    "1. Load the training and testing data\n",
    "2. Generate a \"submission\" dataframe\n",
    "3. Use the above dictionary to replace vlalues\n",
    "4. Log transforming the response\n",
    "5. Make string type data into categories"
   ]
  },
  {
   "cell_type": "code",
   "execution_count": 101,
   "metadata": {
    "_uuid": "e797274dd9e4df5c89f26f4c6614917a15308b4f"
   },
   "outputs": [],
   "source": [
    "# Define Class\n",
    "class HousingPricesRegression():\n",
    "    # class initialization\n",
    "    def __init__(self, train_path, test_path):\n",
    "        self.train = pd.read_csv(train_path)\n",
    "        self.test = pd.read_csv(test_path)\n",
    "        self.submission = pd.DataFrame()\n",
    "        self.percent = 0.07\n",
    "        self.keep_columns = []\n",
    "        self.model_list={}\n",
    "        self.reg_pipe = None\n",
    "        self.rs_reg = None\n",
    "        self.regres = None\n",
    "        self.score = None\n",
    "        \n",
    "    def gen_submission_file(self, id_col):\n",
    "        self.submission[id_col] = self.test[id_col]\n",
    "        self.test.drop([id_col], axis = 1, inplace=True)\n",
    "        self.train.drop([id_col], axis = 1, inplace=True)\n",
    "        \n",
    "    # replace information within columns\n",
    "    def replace_values(self, replace_dict):\n",
    "        # Find name (top level key)\n",
    "        key_name = str(*replace_dict)\n",
    "        true_index = np.where(self.train.columns.isin([key_name]))\n",
    "        col_name = list(self.train.columns[true_index])\n",
    "        if len(col_name) == 0:\n",
    "            # Option 1: Dictionary refers to a key that doesn't exist. Create one!\n",
    "            orig_name = key_name[3:]\n",
    "            self.train[key_name] = self.train[orig_name].map(replace_dict[key_name])\n",
    "            self.test[key_name] = self.test[orig_name].map(replace_dict[key_name])\n",
    "        else:\n",
    "            # Option 2: Dictionary refers to a key that does exist. Modify! \n",
    "            # Take 'ModExterCond' and find the original (\"ExterCond\")\n",
    "            self.train[key_name] = self.train[key_name].map(replace_dict[key_name])\n",
    "            self.test[key_name] = self.test[key_name].map(replace_dict[key_name])\n",
    "            \n",
    "    # Take Logarithm of Response\n",
    "    def create_response(self, response):\n",
    "        self.price_labels = np.log(self.train[response].copy() + 1)\n",
    "        self.orig_resp = self.train[response]\n",
    "        # drop original to avoid confusion\n",
    "        self.train.drop([response], axis=1, inplace = True)  \n",
    "        \n",
    "    def drop_missing(self, threshold_percent):\n",
    "        self.percent = ( self.train.isnull().sum() / self.train.isnull().count() ).sort_values(ascending=False)\n",
    "        ## make list of columns to be dropped\n",
    "        self.keep_columns = list(self.percent[self.percent < threshold_percent].index)\n",
    "        ## drop columns\n",
    "        self.train = self.train[self.keep_columns]\n",
    "        self.test = self.test[self.keep_columns]\n",
    "        \n",
    "    # Remove categories \n",
    "    def remove_categories(self, cat_cols):\n",
    "        for i in cat_cols:\n",
    "            trn = self.train[i].astype('category')\n",
    "            trn = trn.cat.categories\n",
    "            tst = self.test[i].astype('category')\n",
    "            tst = tst.cat.categories\n",
    "            # Find that which is in test which is not in train\n",
    "            unique_values_train = list(set(trn) - set(tst))\n",
    "            # Check \n",
    "            # If no difference, print\n",
    "            if len(unique_values_train)==0:\n",
    "                print(\"No Differnence for {}\".format(i))\n",
    "            else:\n",
    "                # If there is a differnce, change to NA in test for later imputation\n",
    "                for j in unique_values_train:\n",
    "                    to_replace_index = self.train.loc[self.train[i]==j,i].index\n",
    "                    self.train.loc[to_replace_index,i] = float('NaN')\n",
    "                    self.train[i] = self.train[i].cat.remove_categories(j)\n",
    "                    print(\"{} removed from {} in train\".format(j,i))\n",
    "                    \n",
    "    # Set the category type \n",
    "    def make_category(self, cat_cols):\n",
    "        self.train[cat_cols] = self.train[cat_cols].astype('category')\n",
    "        self.test[cat_cols] = self.test[cat_cols].astype('category')\n",
    "    \n",
    "    # Run the pipe\n",
    "    def run_pipeline(self, pipe, names, regressors, parameters, X_train, X_val, y_train, y_val):\n",
    "        self.model_list = {}\n",
    "        for name, regressor, params in zip(names, regressors, parameters):\n",
    "            self.reg_pipe = Pipeline([\n",
    "                ('pipeline', pipe),\n",
    "                ('reg', regressor)\n",
    "            ])\n",
    "            self.rs_reg = RandomizedSearchCV(self.reg_pipe, params, n_iter=10, verbose=2, random_state=42, scoring='neg_mean_squared_error')\n",
    "            self.regres = self.rs_reg.fit(X_train, y_train)\n",
    "            self.score = self.regres.score(X_val, y_val)\n",
    "            print(\"{} score: {}\".format(name, self.score))\n",
    "            self.model_list[name] = self.regres"
   ]
  },
  {
   "cell_type": "markdown",
   "metadata": {
    "_uuid": "6c7cd3b831c86b1d5bc7d462ff4667aa396ad86b"
   },
   "source": [
    "### Load Data"
   ]
  },
  {
   "cell_type": "code",
   "execution_count": 181,
   "metadata": {
    "_uuid": "c95568a9daaf3929f3a01acc609126a33224e3d9"
   },
   "outputs": [],
   "source": [
    "# Define Paths\n",
    "file_path = ''\n",
    "train_path = str(file_path) + str('train.csv')\n",
    "test_path = str(file_path) + str('test.csv')\n",
    "submission_path = str(file_path) + str()\n",
    "\n",
    "# Instantiate model object\n",
    "hprObject = HousingPricesRegression(train_path, test_path)\n",
    "\n",
    "# Generate submission file\n",
    "hprObject.gen_submission_file(id_col='Id')"
   ]
  },
  {
   "cell_type": "markdown",
   "metadata": {},
   "source": [
    "### Create Response\n",
    "This creates a single column dataframe called `price_labels` that is a copy of that in train, except log-transformed. The corresponding column in the train dataframe is also dropped. The graph below shows how the data becomes centered after the logarithmic transformation."
   ]
  },
  {
   "cell_type": "code",
   "execution_count": 182,
   "metadata": {},
   "outputs": [],
   "source": [
    "# This takes the log of the sales price\n",
    "hprObject.create_response(response=\"SalePrice\")"
   ]
  },
  {
   "cell_type": "code",
   "execution_count": 183,
   "metadata": {},
   "outputs": [
    {
     "data": {
      "image/png": "[encoded data removed]",
      "text/plain": [
       "<Figure size 648x288 with 2 Axes>"
      ]
     },
     "metadata": {
      "needs_background": "light"
     },
     "output_type": "display_data"
    }
   ],
   "source": [
    "fig, axes = plt.subplots(nrows=1, ncols=2, figsize=(9,4))\n",
    "axes[0].boxplot(hprObject.orig_resp)\n",
    "axes[0].set_title('Original')\n",
    "axes[1].boxplot(hprObject.price_labels)\n",
    "axes[1].set_title('Log Transform')\n",
    "\n",
    "for ax in axes:\n",
    "    ax.set_xlabel('Response')\n",
    "    ax.set_ylabel('Observed Values')\n",
    "plt.show()"
   ]
  },
  {
   "cell_type": "markdown",
   "metadata": {},
   "source": [
    "### Call Replacement Method\n",
    "Loop through the dictionary replacing the values listed therein for each column."
   ]
  },
  {
   "cell_type": "code",
   "execution_count": 184,
   "metadata": {},
   "outputs": [],
   "source": [
    "# Replace features - multiple columns\n",
    "for key, values in replacement_dict.items():\n",
    "    temp_dict = {}\n",
    "    temp_dict[key] = replacement_dict[key] \n",
    "    hprObject.replace_values(temp_dict)"
   ]
  },
  {
   "cell_type": "markdown",
   "metadata": {},
   "source": [
    "### Drop Missing\n",
    "All columns missing more than \"threshold percent\" are dropped. Also shown is a custom transformer to accomplish this."
   ]
  },
  {
   "cell_type": "code",
   "execution_count": 185,
   "metadata": {},
   "outputs": [],
   "source": [
    "## Custom transformer not used...\n",
    "# class DropMissing(BaseEstimator, TransformerMixin):\n",
    "#    def __init__(self, threshold_percent):\n",
    "#        self.keep_columns = None\n",
    "#        self.threshold_percent = threshold_percent\n",
    "#    def fit(self, X, y=None):\n",
    "#        return self\n",
    "#    def transform(self, X):\n",
    "#        ## calculate percent missing\n",
    "#        percent = ( X.isnull().sum() / X.isnull().count() ).sort_values(ascending=False)\n",
    "#        ## make list of columns to be dropped\n",
    "#        self.keep_columns = list(percent[percent < self.threshold_percent].index)\n",
    "#        X = X[self.keep_columns]\n",
    "#        return X\n",
    "#    def fit_transform(self, X, y=None):\n",
    "#        return self.fit(X,y).transform(X)\n",
    "\n",
    "## Drop colums which have too many missing rows\n",
    "hprObject.drop_missing(threshold_percent=0.06)"
   ]
  },
  {
   "cell_type": "markdown",
   "metadata": {},
   "source": [
    "### Set Category and Numeric Columns"
   ]
  },
  {
   "cell_type": "code",
   "execution_count": 186,
   "metadata": {},
   "outputs": [],
   "source": [
    "## Create list of numerical and categorical attributes\n",
    "num_cols = hprObject.test._get_numeric_data().columns\n",
    "cat_cols = list(set(hprObject.test.columns) - set(num_cols))\n",
    "num_cols = list(num_cols)\n",
    "\n",
    "## Need to move this to a class method or something\n",
    "hprObject.make_category(cat_cols)"
   ]
  },
  {
   "cell_type": "code",
   "execution_count": 187,
   "metadata": {},
   "outputs": [],
   "source": [
    "#hprObject.train[num_cols] = hprObject.train[num_cols].apply(pd.to_numeric)"
   ]
  },
  {
   "cell_type": "markdown",
   "metadata": {},
   "source": [
    "### Identify outliers with Isolation Forest"
   ]
  },
  {
   "cell_type": "code",
   "execution_count": 188,
   "metadata": {
    "_uuid": "dee1661cdf3ed6fb93269b0466dc33f42f5338b6"
   },
   "outputs": [],
   "source": [
    "## Create an arbitrary split\n",
    "#X_iso_train, X_iso_val, y_iso_train, y_iso_val = train_test_split(hprObject.train, hprObject.price_labels, test_size = 0.2, random_state=24)\n",
    "\n",
    "## cross-validate pipeline (may need to impute missing as zero)\n",
    "num_imputer = ColumnTransformer(\n",
    "    transformers = [\n",
    "        ('num_imp', SimpleImputer(strategy='constant',fill_value=0.0, copy=False), num_cols)\n",
    "    ],\n",
    "    remainder='drop'\n",
    ")\n",
    "\n",
    "cat_imputer = ColumnTransformer(\n",
    "    transformers = [\n",
    "        ('cat_imp', SimpleImputer(strategy='most_frequent', copy=False), cat_cols)\n",
    "    ],\n",
    "    remainder='drop'\n",
    ")\n",
    "\n",
    "step1 = Pipeline([\n",
    "    ('nums', num_imputer)\n",
    "])\n",
    "\n",
    "step2 = Pipeline([\n",
    "    ('categ', cat_imputer),\n",
    "    ('encode', OneHotEncoder(handle_unknown='ignore'))\n",
    "])\n",
    "\n",
    "step3 = FeatureUnion([\n",
    "    ('numeric_stuff', step1 ),\n",
    "    ('category_stuff', step2)\n",
    "])\n",
    "\n",
    "iso_pipeline = Pipeline([\n",
    "    ('final', step3),\n",
    "    ('fit', IsolationForest(n_estimators=15,\n",
    "                            contamination=0.06,\n",
    "                            behaviour='new'))\n",
    "])\n",
    "\n",
    "iso_fit = iso_pipeline.fit(X=hprObject.train, y=hprObject.price_labels)"
   ]
  },
  {
   "cell_type": "markdown",
   "metadata": {},
   "source": [
    "## Explore Outliers"
   ]
  },
  {
   "cell_type": "markdown",
   "metadata": {},
   "source": [
    "The isolation forest yields an 'outlier' or 'non-outlier' flag taking into consideration all features. "
   ]
  },
  {
   "cell_type": "code",
   "execution_count": 189,
   "metadata": {},
   "outputs": [
    {
     "data": {
      "text/plain": [
       "(88, 74)"
      ]
     },
     "execution_count": 189,
     "metadata": {},
     "output_type": "execute_result"
    }
   ],
   "source": [
    "outlier_flag = iso_fit.predict(X=hprObject.train)\n",
    "hprObject.train['OutlierFlag'] = outlier_flag\n",
    "outlier_df = hprObject.train[hprObject.train.loc[:,'OutlierFlag']==-1]\n",
    "outlier_df.shape"
   ]
  },
  {
   "cell_type": "code",
   "execution_count": 190,
   "metadata": {},
   "outputs": [],
   "source": [
    "# Define Plotting method\n",
    "def plot_outliers1(col='OverallQual'):\n",
    "    y_out = hprObject.orig_resp[hprObject.train.loc[:,'OutlierFlag']==-1]\n",
    "    y_n = hprObject.orig_resp[hprObject.train.loc[:,'OutlierFlag']==1]\n",
    "    x_out = hprObject.train[hprObject.train.loc[:,'OutlierFlag']==-1][col]\n",
    "    x_n = hprObject.train[hprObject.train.loc[:,'OutlierFlag']==1][col]\n",
    "    \n",
    "    fig, axes = plt.subplots(figsize=(9,4))\n",
    "    axes.scatter(x_n, y_n, c='blue', alpha=0.3)\n",
    "    axes.scatter(x_out, y_out, c='red', alpha=0.3)\n",
    "    axes.set_xlabel(col)\n",
    "    axes.set_ylabel('Sales Price')\n",
    "        \n",
    "    plt.show()"
   ]
  },
  {
   "cell_type": "markdown",
   "metadata": {},
   "source": [
    "The 'outlier' values are shown in red, while the 'non-outliers' are shown in blue. These plots show that a particular 'SalesPrice' is simultaneously 'normal' for some features while being an 'outlier' for others. "
   ]
  },
  {
   "cell_type": "code",
   "execution_count": 191,
   "metadata": {},
   "outputs": [
    {
     "data": {
      "image/png": "[encoded data removed]",
      "text/plain": [
       "<Figure size 648x288 with 1 Axes>"
      ]
     },
     "metadata": {
      "needs_background": "light"
     },
     "output_type": "display_data"
    }
   ],
   "source": [
    "plot_outliers1(col='GrLivArea')"
   ]
  },
  {
   "cell_type": "code",
   "execution_count": 192,
   "metadata": {},
   "outputs": [
    {
     "data": {
      "image/png": "[encoded data removed]",
      "text/plain": [
       "<Figure size 648x288 with 1 Axes>"
      ]
     },
     "metadata": {
      "needs_background": "light"
     },
     "output_type": "display_data"
    }
   ],
   "source": [
    "plot_outliers1(col='TotalBsmtSF')"
   ]
  },
  {
   "cell_type": "markdown",
   "metadata": {},
   "source": [
    "## Subtitute the mean for outliers of 'SalesPrice'"
   ]
  },
  {
   "cell_type": "code",
   "execution_count": 193,
   "metadata": {},
   "outputs": [],
   "source": [
    "# create list of all columns minus the flag\n",
    "all_cols = hprObject.train.columns.tolist()\n",
    "all_cols.remove('OutlierFlag')\n",
    "all_cols\n",
    "\n",
    "# substitute the median for the price labels\n",
    "median_sales_price = hprObject.price_labels.median()\n",
    "hprObject.price_labels[hprObject.train.loc[:,'OutlierFlag']==-1] = median_sales_price\n",
    "\n",
    "# subtitute Nan for all measurements flagged as outliers \n",
    "# not ready for this\n",
    "# hprObject.train.loc[hprObject.train.OutlierFlag==-1, all_cols] = np.nan"
   ]
  },
  {
   "cell_type": "markdown",
   "metadata": {},
   "source": [
    "# Pipeline"
   ]
  },
  {
   "cell_type": "markdown",
   "metadata": {},
   "source": [
    "## Creating a transformer with a genetic algorithm"
   ]
  },
  {
   "cell_type": "code",
   "execution_count": 222,
   "metadata": {},
   "outputs": [
    {
     "data": {
      "text/plain": [
       "(1460, 10)"
      ]
     },
     "execution_count": 222,
     "metadata": {},
     "output_type": "execute_result"
    }
   ],
   "source": [
    "# For now, skip this block\n",
    "# list of features\n",
    "grade_col = ['OverallQual', 'OverallCond']\n",
    "exter_cond = ['ExterQual','ExterCond']\n",
    "add_floor = ['1stFlrSF', '2ndFlrSF']\n",
    "add_porch = ['OpenPorchSF','EnclosedPorch','3SsnPorch','ScreenPorch']\n",
    "add_bsmt = ['BsmtFinSF1', 'BsmtFinSF2']\n",
    "origFeat = grade_col + exter_cond + add_floor + add_porch + add_bsmt\n",
    "\n",
    "# Create column transformer\n",
    "feature_engineering = ColumnTransformer(\n",
    "    transformers = [('first_try', SymbolicTransformer(), origFeat)],\n",
    "    remainder='drop'\n",
    ")\n",
    "\n",
    "# Create pipeline\n",
    "feature_pipeline = Pipeline([\n",
    "    ('features', feature_engineering)\n",
    "])\n",
    "\n",
    "# Train-test-split\n",
    "# X_train, X_val, y_train, y_val = train_test_split(hprObject.train, hprObject.price_labels, test_size = 0.2)\n",
    "\n",
    "# Fit pipeline\n",
    "fp_fit = feature_pipeline.fit_transform(hprObject.train, hprObject.price_labels)\n",
    "\n",
    "fp_fit.shape"
   ]
  },
  {
   "cell_type": "code",
   "execution_count": 194,
   "metadata": {},
   "outputs": [
    {
     "data": {
      "text/html": [
       "<div>\n",
       "<style scoped>\n",
       "    .dataframe tbody tr th:only-of-type {\n",
       "        vertical-align: middle;\n",
       "    }\n",
       "\n",
       "    .dataframe tbody tr th {\n",
       "        vertical-align: top;\n",
       "    }\n",
       "\n",
       "    .dataframe thead th {\n",
       "        text-align: right;\n",
       "    }\n",
       "</style>\n",
       "<table border=\"1\" class=\"dataframe\">\n",
       "  <thead>\n",
       "    <tr style=\"text-align: right;\">\n",
       "      <th></th>\n",
       "      <th>col1</th>\n",
       "      <th>col2</th>\n",
       "    </tr>\n",
       "  </thead>\n",
       "  <tbody>\n",
       "    <tr>\n",
       "      <th>0</th>\n",
       "      <td>0.750220</td>\n",
       "      <td>0.816833</td>\n",
       "    </tr>\n",
       "    <tr>\n",
       "      <th>1</th>\n",
       "      <td>-0.185419</td>\n",
       "      <td>-0.268808</td>\n",
       "    </tr>\n",
       "    <tr>\n",
       "      <th>2</th>\n",
       "      <td>0.750220</td>\n",
       "      <td>0.816833</td>\n",
       "    </tr>\n",
       "    <tr>\n",
       "      <th>3</th>\n",
       "      <td>0.438340</td>\n",
       "      <td>0.274013</td>\n",
       "    </tr>\n",
       "    <tr>\n",
       "      <th>4</th>\n",
       "      <td>1.373978</td>\n",
       "      <td>1.359653</td>\n",
       "    </tr>\n",
       "    <tr>\n",
       "      <th>5</th>\n",
       "      <td>-0.809178</td>\n",
       "      <td>-0.811628</td>\n",
       "    </tr>\n",
       "    <tr>\n",
       "      <th>6</th>\n",
       "      <td>1.373978</td>\n",
       "      <td>1.359653</td>\n",
       "    </tr>\n",
       "    <tr>\n",
       "      <th>7</th>\n",
       "      <td>0.438340</td>\n",
       "      <td>0.274013</td>\n",
       "    </tr>\n",
       "    <tr>\n",
       "      <th>8</th>\n",
       "      <td>0.438340</td>\n",
       "      <td>0.274013</td>\n",
       "    </tr>\n",
       "    <tr>\n",
       "      <th>9</th>\n",
       "      <td>-0.809178</td>\n",
       "      <td>-0.811628</td>\n",
       "    </tr>\n",
       "    <tr>\n",
       "      <th>10</th>\n",
       "      <td>-0.809178</td>\n",
       "      <td>-0.811628</td>\n",
       "    </tr>\n",
       "    <tr>\n",
       "      <th>11</th>\n",
       "      <td>2.309617</td>\n",
       "      <td>2.445294</td>\n",
       "    </tr>\n",
       "    <tr>\n",
       "      <th>12</th>\n",
       "      <td>-0.809178</td>\n",
       "      <td>-0.811628</td>\n",
       "    </tr>\n",
       "    <tr>\n",
       "      <th>13</th>\n",
       "      <td>0.750220</td>\n",
       "      <td>0.816833</td>\n",
       "    </tr>\n",
       "    <tr>\n",
       "      <th>14</th>\n",
       "      <td>-0.185419</td>\n",
       "      <td>-0.268808</td>\n",
       "    </tr>\n",
       "    <tr>\n",
       "      <th>15</th>\n",
       "      <td>0.438340</td>\n",
       "      <td>0.274013</td>\n",
       "    </tr>\n",
       "    <tr>\n",
       "      <th>16</th>\n",
       "      <td>-0.185419</td>\n",
       "      <td>-0.268808</td>\n",
       "    </tr>\n",
       "    <tr>\n",
       "      <th>17</th>\n",
       "      <td>-1.432936</td>\n",
       "      <td>-1.354448</td>\n",
       "    </tr>\n",
       "    <tr>\n",
       "      <th>18</th>\n",
       "      <td>-0.809178</td>\n",
       "      <td>-0.811628</td>\n",
       "    </tr>\n",
       "    <tr>\n",
       "      <th>19</th>\n",
       "      <td>-0.809178</td>\n",
       "      <td>-0.811628</td>\n",
       "    </tr>\n",
       "    <tr>\n",
       "      <th>20</th>\n",
       "      <td>1.373978</td>\n",
       "      <td>1.359653</td>\n",
       "    </tr>\n",
       "    <tr>\n",
       "      <th>21</th>\n",
       "      <td>0.438340</td>\n",
       "      <td>0.274013</td>\n",
       "    </tr>\n",
       "    <tr>\n",
       "      <th>22</th>\n",
       "      <td>1.373978</td>\n",
       "      <td>1.359653</td>\n",
       "    </tr>\n",
       "    <tr>\n",
       "      <th>23</th>\n",
       "      <td>-0.809178</td>\n",
       "      <td>-0.811628</td>\n",
       "    </tr>\n",
       "    <tr>\n",
       "      <th>24</th>\n",
       "      <td>-0.809178</td>\n",
       "      <td>-0.811628</td>\n",
       "    </tr>\n",
       "    <tr>\n",
       "      <th>25</th>\n",
       "      <td>1.373978</td>\n",
       "      <td>1.359653</td>\n",
       "    </tr>\n",
       "    <tr>\n",
       "      <th>26</th>\n",
       "      <td>-0.809178</td>\n",
       "      <td>-0.811628</td>\n",
       "    </tr>\n",
       "    <tr>\n",
       "      <th>27</th>\n",
       "      <td>1.373978</td>\n",
       "      <td>1.359653</td>\n",
       "    </tr>\n",
       "    <tr>\n",
       "      <th>28</th>\n",
       "      <td>-0.809178</td>\n",
       "      <td>-0.811628</td>\n",
       "    </tr>\n",
       "    <tr>\n",
       "      <th>29</th>\n",
       "      <td>-1.432936</td>\n",
       "      <td>-1.354448</td>\n",
       "    </tr>\n",
       "    <tr>\n",
       "      <th>...</th>\n",
       "      <td>...</td>\n",
       "      <td>...</td>\n",
       "    </tr>\n",
       "    <tr>\n",
       "      <th>1430</th>\n",
       "      <td>-0.497298</td>\n",
       "      <td>-0.268808</td>\n",
       "    </tr>\n",
       "    <tr>\n",
       "      <th>1431</th>\n",
       "      <td>-0.185419</td>\n",
       "      <td>-0.268808</td>\n",
       "    </tr>\n",
       "    <tr>\n",
       "      <th>1432</th>\n",
       "      <td>-1.432936</td>\n",
       "      <td>-1.354448</td>\n",
       "    </tr>\n",
       "    <tr>\n",
       "      <th>1433</th>\n",
       "      <td>-0.185419</td>\n",
       "      <td>-0.268808</td>\n",
       "    </tr>\n",
       "    <tr>\n",
       "      <th>1434</th>\n",
       "      <td>-0.809178</td>\n",
       "      <td>-0.811628</td>\n",
       "    </tr>\n",
       "    <tr>\n",
       "      <th>1435</th>\n",
       "      <td>0.126461</td>\n",
       "      <td>0.274013</td>\n",
       "    </tr>\n",
       "    <tr>\n",
       "      <th>1436</th>\n",
       "      <td>-1.432936</td>\n",
       "      <td>-1.354448</td>\n",
       "    </tr>\n",
       "    <tr>\n",
       "      <th>1437</th>\n",
       "      <td>1.685858</td>\n",
       "      <td>1.902474</td>\n",
       "    </tr>\n",
       "    <tr>\n",
       "      <th>1438</th>\n",
       "      <td>-0.185419</td>\n",
       "      <td>-0.268808</td>\n",
       "    </tr>\n",
       "    <tr>\n",
       "      <th>1439</th>\n",
       "      <td>0.438340</td>\n",
       "      <td>0.274013</td>\n",
       "    </tr>\n",
       "    <tr>\n",
       "      <th>1440</th>\n",
       "      <td>-0.185419</td>\n",
       "      <td>-0.268808</td>\n",
       "    </tr>\n",
       "    <tr>\n",
       "      <th>1441</th>\n",
       "      <td>0.126461</td>\n",
       "      <td>0.274013</td>\n",
       "    </tr>\n",
       "    <tr>\n",
       "      <th>1442</th>\n",
       "      <td>2.933375</td>\n",
       "      <td>2.988114</td>\n",
       "    </tr>\n",
       "    <tr>\n",
       "      <th>1443</th>\n",
       "      <td>-0.185419</td>\n",
       "      <td>-0.268808</td>\n",
       "    </tr>\n",
       "    <tr>\n",
       "      <th>1444</th>\n",
       "      <td>0.750220</td>\n",
       "      <td>0.816833</td>\n",
       "    </tr>\n",
       "    <tr>\n",
       "      <th>1445</th>\n",
       "      <td>-0.185419</td>\n",
       "      <td>-0.268808</td>\n",
       "    </tr>\n",
       "    <tr>\n",
       "      <th>1446</th>\n",
       "      <td>-0.809178</td>\n",
       "      <td>-0.811628</td>\n",
       "    </tr>\n",
       "    <tr>\n",
       "      <th>1447</th>\n",
       "      <td>1.373978</td>\n",
       "      <td>1.359653</td>\n",
       "    </tr>\n",
       "    <tr>\n",
       "      <th>1448</th>\n",
       "      <td>-1.432936</td>\n",
       "      <td>-1.354448</td>\n",
       "    </tr>\n",
       "    <tr>\n",
       "      <th>1449</th>\n",
       "      <td>-0.809178</td>\n",
       "      <td>-0.811628</td>\n",
       "    </tr>\n",
       "    <tr>\n",
       "      <th>1450</th>\n",
       "      <td>-0.809178</td>\n",
       "      <td>-0.811628</td>\n",
       "    </tr>\n",
       "    <tr>\n",
       "      <th>1451</th>\n",
       "      <td>1.373978</td>\n",
       "      <td>1.359653</td>\n",
       "    </tr>\n",
       "    <tr>\n",
       "      <th>1452</th>\n",
       "      <td>-0.809178</td>\n",
       "      <td>-0.811628</td>\n",
       "    </tr>\n",
       "    <tr>\n",
       "      <th>1453</th>\n",
       "      <td>-0.809178</td>\n",
       "      <td>-0.811628</td>\n",
       "    </tr>\n",
       "    <tr>\n",
       "      <th>1454</th>\n",
       "      <td>0.750220</td>\n",
       "      <td>0.816833</td>\n",
       "    </tr>\n",
       "    <tr>\n",
       "      <th>1455</th>\n",
       "      <td>-0.185419</td>\n",
       "      <td>-0.268808</td>\n",
       "    </tr>\n",
       "    <tr>\n",
       "      <th>1456</th>\n",
       "      <td>-0.185419</td>\n",
       "      <td>-0.268808</td>\n",
       "    </tr>\n",
       "    <tr>\n",
       "      <th>1457</th>\n",
       "      <td>1.062099</td>\n",
       "      <td>1.359653</td>\n",
       "    </tr>\n",
       "    <tr>\n",
       "      <th>1458</th>\n",
       "      <td>-0.809178</td>\n",
       "      <td>-0.811628</td>\n",
       "    </tr>\n",
       "    <tr>\n",
       "      <th>1459</th>\n",
       "      <td>-0.497298</td>\n",
       "      <td>-0.268808</td>\n",
       "    </tr>\n",
       "  </tbody>\n",
       "</table>\n",
       "<p>1460 rows × 2 columns</p>\n",
       "</div>"
      ],
      "text/plain": [
       "          col1      col2\n",
       "0     0.750220  0.816833\n",
       "1    -0.185419 -0.268808\n",
       "2     0.750220  0.816833\n",
       "3     0.438340  0.274013\n",
       "4     1.373978  1.359653\n",
       "5    -0.809178 -0.811628\n",
       "6     1.373978  1.359653\n",
       "7     0.438340  0.274013\n",
       "8     0.438340  0.274013\n",
       "9    -0.809178 -0.811628\n",
       "10   -0.809178 -0.811628\n",
       "11    2.309617  2.445294\n",
       "12   -0.809178 -0.811628\n",
       "13    0.750220  0.816833\n",
       "14   -0.185419 -0.268808\n",
       "15    0.438340  0.274013\n",
       "16   -0.185419 -0.268808\n",
       "17   -1.432936 -1.354448\n",
       "18   -0.809178 -0.811628\n",
       "19   -0.809178 -0.811628\n",
       "20    1.373978  1.359653\n",
       "21    0.438340  0.274013\n",
       "22    1.373978  1.359653\n",
       "23   -0.809178 -0.811628\n",
       "24   -0.809178 -0.811628\n",
       "25    1.373978  1.359653\n",
       "26   -0.809178 -0.811628\n",
       "27    1.373978  1.359653\n",
       "28   -0.809178 -0.811628\n",
       "29   -1.432936 -1.354448\n",
       "...        ...       ...\n",
       "1430 -0.497298 -0.268808\n",
       "1431 -0.185419 -0.268808\n",
       "1432 -1.432936 -1.354448\n",
       "1433 -0.185419 -0.268808\n",
       "1434 -0.809178 -0.811628\n",
       "1435  0.126461  0.274013\n",
       "1436 -1.432936 -1.354448\n",
       "1437  1.685858  1.902474\n",
       "1438 -0.185419 -0.268808\n",
       "1439  0.438340  0.274013\n",
       "1440 -0.185419 -0.268808\n",
       "1441  0.126461  0.274013\n",
       "1442  2.933375  2.988114\n",
       "1443 -0.185419 -0.268808\n",
       "1444  0.750220  0.816833\n",
       "1445 -0.185419 -0.268808\n",
       "1446 -0.809178 -0.811628\n",
       "1447  1.373978  1.359653\n",
       "1448 -1.432936 -1.354448\n",
       "1449 -0.809178 -0.811628\n",
       "1450 -0.809178 -0.811628\n",
       "1451  1.373978  1.359653\n",
       "1452 -0.809178 -0.811628\n",
       "1453 -0.809178 -0.811628\n",
       "1454  0.750220  0.816833\n",
       "1455 -0.185419 -0.268808\n",
       "1456 -0.185419 -0.268808\n",
       "1457  1.062099  1.359653\n",
       "1458 -0.809178 -0.811628\n",
       "1459 -0.497298 -0.268808\n",
       "\n",
       "[1460 rows x 2 columns]"
      ]
     },
     "execution_count": 194,
     "metadata": {},
     "output_type": "execute_result"
    }
   ],
   "source": [
    "# Create Dataframe of new features\n",
    "nf_df = pd.DataFrame(data=fp_fit, \n",
    "                     columns=['col1','col2','col3','col4','col5','col6','col7','col8','col9','col10'], \n",
    "                     index=[i for i in range(0, 1460)]\n",
    "                    )\n",
    "\n",
    "# remove duplicate colums\n",
    "nf_df = nf_df.T.drop_duplicates().T\n",
    "nf_df"
   ]
  },
  {
   "cell_type": "markdown",
   "metadata": {},
   "source": [
    "### Pipelines Finally\n",
    "And now we are finally able to create a pipeline. There are so many powerful scripts / notebooks on Kaggle, and yet so few examples as to how to use the pipeline library. I put the HousingRegressionPrices class aside and focus on building a pipeline. I found this process to be quite challenging at first, but I am pleased with the result and I encourage you to take it and make it even better! \n",
    "\n",
    "The key to understanding my pipeline is that there are essentially three pipelines which are united into one. The data for these pipelines are: \n",
    "\n",
    "1. Numeric columns which are used to create new features\n",
    "2. Numeric columns which are not used to create new features\n",
    "3. Categorical columns which are one-hot-encoded\n",
    "\n",
    "These 3 groups of columns are bound back together horizontally by \"Feature Union\". "
   ]
  },
  {
   "cell_type": "code",
   "execution_count": 195,
   "metadata": {},
   "outputs": [],
   "source": [
    "## Column Names ##\n",
    "# These were troublesome\n",
    "# kitchen_col = ['KitchenAbvGr', 'KitchenQual']\n",
    "# add_area = ['GrLivArea','TotalBsmtSF']\n",
    "# count_bath = ['BsmtFullBath','FullBath','BsmtHalfBath','HalfBath']\n",
    "# Using these:\n",
    "grade_col = ['OverallQual', 'OverallCond']\n",
    "exter_cond = ['ExterQual','ExterCond']\n",
    "add_floor = ['1stFlrSF', '2ndFlrSF']\n",
    "add_porch = ['OpenPorchSF','EnclosedPorch','3SsnPorch','ScreenPorch']\n",
    "add_bsmt = ['BsmtFinSF1', 'BsmtFinSF2']\n",
    "\n",
    "feat_eng_names = grade_col + ['OverallTotal'] + exter_cond + ['ExterTotal'] + \\\n",
    "add_floor + ['FlrSFTotal'] + \\\n",
    "add_porch + ['UnionPorch'] + ['ModPorch1'] + ['ModPorch2'] + ['ModPorch3'] + ['ModPorch4'] + ['ModPorch5'] \n",
    "\n",
    "\n",
    "other_num_cols = list(set(num_cols) - set(feat_eng_names))"
   ]
  },
  {
   "cell_type": "markdown",
   "metadata": {},
   "source": [
    "#### Group 1: Numeric Columns & Feature Creation\n",
    "In the first edition of [*Hands-On Machine Learning with Scikit-Learn and TensorFlow*](https://www.amazon.com/Hands-Machine-Learning-Scikit-Learn-TensorFlow-ebook/dp/B06XNKV5TS/ref=sr_1_4?crid=1D12AT1KWITI1&keywords=hands+on+machine+learning+with+scikit-learn+and+tensorflow&qid=1555695123&s=gateway&sprefix=hands+on+machine+lear%2Caps%2C156&sr=8-4), Aurelien Geron explained how to create custom transformers which work with pandas dataframes. Recently, however, a new class has been introduced in Sklearn called [ColumnTransformer](https://scikit-learn.org/stable/modules/generated/sklearn.compose.ColumnTransformer.html) which effectively does this for you. I feed in speciifc columns *by name* and have PolynomialFeatures create interactions between these features. If you do not set 'remainder' to 'drop' then the other columns will be passed through this transformer in addition to the columns you explicitly speciifed. This could be confusing later, so I definitely advocate the use of 'drop'. Imputation and StandardScaleing is also performed. See 'step1' for the pipeline. "
   ]
  },
  {
   "cell_type": "code",
   "execution_count": 215,
   "metadata": {},
   "outputs": [],
   "source": [
    "## Step 1: Feature Engineering ##\n",
    "feature_engineering = ColumnTransformer(\n",
    "    transformers = [\n",
    "        ('multi_grade', PolynomialFeatures(degree=2, interaction_only=True, include_bias=False), grade_col),\n",
    "        ('multi_exter', PolynomialFeatures(degree=2, interaction_only=True, include_bias=False), exter_cond),\n",
    "        ('add_floor_SF', PolynomialFeatures(degree=2, interaction_only=True, include_bias=False), add_floor),\n",
    "        ('add_porch_SF', PolynomialFeatures(degree=2, interaction_only=True, include_bias=False), add_porch)\n",
    "    ],\n",
    "    remainder='drop'\n",
    ")\n",
    "\n",
    "step1 = Pipeline([\n",
    "    ('feat_eng', feature_engineering),\n",
    "    ('impute_feats', SimpleImputer(strategy=\"mean\", copy=False)),\n",
    "    ('scale_feats', StandardScaler())\n",
    "])"
   ]
  },
  {
   "cell_type": "markdown",
   "metadata": {},
   "source": [
    "#### Group 2: Other Numeric Columns\n",
    "Since I've elected to 'drop' the non-named numeric columns, I need to gerate another set of transformers which works on them. See 'step2' for the pipeline. I also create a missing indicator matrix so that my modeling method can specifically learn which values were imputed. "
   ]
  },
  {
   "cell_type": "code",
   "execution_count": 216,
   "metadata": {},
   "outputs": [],
   "source": [
    "## Step 2: Other Numeric Columns ##\n",
    "other_numerical = ColumnTransformer(\n",
    "    transformers = [\n",
    "        ('impute_other', SimpleImputer(strategy=\"mean\", copy=False), other_num_cols),\n",
    "    ],\n",
    "    remainder='drop'\n",
    ")\n",
    "\n",
    "step2 = Pipeline([\n",
    "    ('other_nums', other_numerical),\n",
    "    ('scale_other', StandardScaler())\n",
    "])"
   ]
  },
  {
   "cell_type": "markdown",
   "metadata": {},
   "source": [
    "#### Group 3: Categorical\n",
    "I have the categorical data go through its own series of steps, first imputing by \"most_frequent\" and then converting the data into a one-hot-encoding. Again I create a missing indicator matrix so that imputed values can be learned."
   ]
  },
  {
   "cell_type": "code",
   "execution_count": 217,
   "metadata": {},
   "outputs": [],
   "source": [
    "## Step 3: Categorical Columns ## \n",
    "categorical = ColumnTransformer(\n",
    "    transformers = [\n",
    "        ('impute_cats', SimpleImputer(strategy=\"most_frequent\", copy=False), cat_cols),\n",
    "    ],\n",
    "    remainder='drop'\n",
    ")\n",
    "\n",
    "step3 = Pipeline([\n",
    "    ('categ', categorical),\n",
    "    ('encode', OneHotEncoder(handle_unknown='ignore', sparse=False))\n",
    "])"
   ]
  },
  {
   "cell_type": "markdown",
   "metadata": {},
   "source": [
    "And here I unite the pipelines from the previous steps. There's also the addition of missing indicators if it suits your fancy. I have found their use to cause me to overfit for this competition.  "
   ]
  },
  {
   "cell_type": "code",
   "execution_count": 221,
   "metadata": {},
   "outputs": [
    {
     "data": {
      "text/plain": [
       "(1460, 236)"
      ]
     },
     "execution_count": 221,
     "metadata": {},
     "output_type": "execute_result"
    }
   ],
   "source": [
    "## Step 4: Missing indicators \n",
    "other_missing = ColumnTransformer(\n",
    "    transformers = [\n",
    "        ('other_missing', MissingIndicator(features='all'), other_num_cols)\n",
    "    ],\n",
    "    remainder='drop'\n",
    ")\n",
    "\n",
    "category_missing = ColumnTransformer(\n",
    "    transformers = [\n",
    "        ('cat_missing', MissingIndicator(features='all'), cat_cols)\n",
    "    ],\n",
    "    remainder='drop'\n",
    ")\n",
    "\n",
    "## Step 5: Unify ##     \n",
    "unify = FeatureUnion([\n",
    "#    ('new_features', step1 ),\n",
    "    ('numeric_scale', step2), \n",
    "    ('categoric_encode', step3),\n",
    "#    ('num_missing_indicator', other_missing),\n",
    "#    ('cat_missing_indicator', category_missing)\n",
    "])\n",
    "\n",
    "final_pipeline = Pipeline([\n",
    "    ('finally', unify)\n",
    "])\n",
    "\n",
    "## Just checking\n",
    "#f = final_pipeline.fit_transform(hprObject.train)\n",
    "#f.shape"
   ]
  },
  {
   "cell_type": "markdown",
   "metadata": {},
   "source": [
    "# Model Parameters\n",
    "\n",
    "The \"prepared\" data is now split (simply) into training / validation sets. The dataset for this competition is very small, so I was hesitant to make the test set much larger. \n",
    "I also specify a few parameters for both SVR() and RandomForestRegressor(). You'll see why the nested diciontary is necessary in a moment. "
   ]
  },
  {
   "cell_type": "code",
   "execution_count": 198,
   "metadata": {},
   "outputs": [],
   "source": [
    "hprObject.train = pd.concat([nf_df, hprObject.train], axis=1)"
   ]
  },
  {
   "cell_type": "code",
   "execution_count": 200,
   "metadata": {},
   "outputs": [],
   "source": [
    "# split train into train and validation set\n",
    "X_train, X_val, y_train, y_val = train_test_split(hprObject.train, hprObject.price_labels, test_size = 0.2)\n",
    "\n",
    "# list names of regressors\n",
    "names = [\n",
    "         \"Support-Vector Regressor\",\n",
    "         \"Random Forest Regressor\", \n",
    "#         \"Symbolic Regressor\"\n",
    "        ]\n",
    "\n",
    "regressors = [\n",
    "    SVR(),\n",
    "    RandomForestRegressor(),\n",
    "#    SymbolicRegressor()\n",
    "]\n",
    "\n",
    "parameters = [\n",
    "    {\n",
    "        'reg__C': (reciprocal(1, 10)), \n",
    "        'reg__gamma': (uniform(0.001, 0.1))\n",
    "    },\n",
    "    {\n",
    "        'reg__max_depth': (5,10,15)\n",
    "    },\n",
    " #   {\n",
    " #       'reg__generations': (20, 30),\n",
    " #       'reg__tournament_size': (20, 30)\n",
    " #   }\n",
    "             ]"
   ]
  },
  {
   "cell_type": "markdown",
   "metadata": {},
   "source": [
    "## Model\n",
    "I wanted to have the ability to run multiple models on the same pipeline. Someone (I forget the link) posted some code on StackOverFlow; I've adapted it here. Essentially, a pipeline is appended within a for-loop with different regressors. The pipeline is fit with the training data, scored, and the model is saved in the 'model_list' dictionary for future use. I also use RandomizedGridSearch instead of ordinary GridSearch because...I'm cool :) ."
   ]
  },
  {
   "cell_type": "code",
   "execution_count": 201,
   "metadata": {},
   "outputs": [
    {
     "name": "stderr",
     "output_type": "stream",
     "text": [
      "/home/gopherguy14/anaconda3/envs/kaggle_comps/lib/python3.6/site-packages/sklearn/model_selection/_split.py:1978: FutureWarning: The default value of cv will change from 3 to 5 in version 0.22. Specify it explicitly to silence this warning.\n",
      "  warnings.warn(CV_WARNING, FutureWarning)\n",
      "[Parallel(n_jobs=1)]: Using backend SequentialBackend with 1 concurrent workers.\n"
     ]
    },
    {
     "name": "stdout",
     "output_type": "stream",
     "text": [
      "Fitting 3 folds for each of 10 candidates, totalling 30 fits\n",
      "[CV] reg__C=2.368863950364078, reg__gamma=0.09607143064099162 ........\n",
      "[CV]  reg__C=2.368863950364078, reg__gamma=0.09607143064099162, total=   0.4s\n",
      "[CV] reg__C=2.368863950364078, reg__gamma=0.09607143064099162 ........\n"
     ]
    },
    {
     "name": "stderr",
     "output_type": "stream",
     "text": [
      "[Parallel(n_jobs=1)]: Done   1 out of   1 | elapsed:    0.4s remaining:    0.0s\n"
     ]
    },
    {
     "name": "stdout",
     "output_type": "stream",
     "text": [
      "[CV]  reg__C=2.368863950364078, reg__gamma=0.09607143064099162, total=   0.4s\n",
      "[CV] reg__C=2.368863950364078, reg__gamma=0.09607143064099162 ........\n",
      "[CV]  reg__C=2.368863950364078, reg__gamma=0.09607143064099162, total=   0.4s\n",
      "[CV] reg__C=5.395030966670228, reg__gamma=0.06086584841970366 ........\n",
      "[CV]  reg__C=5.395030966670228, reg__gamma=0.06086584841970366, total=   0.4s\n",
      "[CV] reg__C=5.395030966670228, reg__gamma=0.06086584841970366 ........\n",
      "[CV]  reg__C=5.395030966670228, reg__gamma=0.06086584841970366, total=   0.4s\n",
      "[CV] reg__C=5.395030966670228, reg__gamma=0.06086584841970366 ........\n",
      "[CV]  reg__C=5.395030966670228, reg__gamma=0.06086584841970366, total=   0.4s\n",
      "[CV] reg__C=1.432249371823025, reg__gamma=0.016599452033620267 .......\n",
      "[CV]  reg__C=1.432249371823025, reg__gamma=0.016599452033620267, total=   0.4s\n",
      "[CV] reg__C=1.432249371823025, reg__gamma=0.016599452033620267 .......\n",
      "[CV]  reg__C=1.432249371823025, reg__gamma=0.016599452033620267, total=   0.4s\n",
      "[CV] reg__C=1.432249371823025, reg__gamma=0.016599452033620267 .......\n",
      "[CV]  reg__C=1.432249371823025, reg__gamma=0.016599452033620267, total=   0.4s\n",
      "[CV] reg__C=1.1430983876313219, reg__gamma=0.08761761457749352 .......\n",
      "[CV]  reg__C=1.1430983876313219, reg__gamma=0.08761761457749352, total=   0.4s\n",
      "[CV] reg__C=1.1430983876313219, reg__gamma=0.08761761457749352 .......\n",
      "[CV]  reg__C=1.1430983876313219, reg__gamma=0.08761761457749352, total=   0.4s\n",
      "[CV] reg__C=1.1430983876313219, reg__gamma=0.08761761457749352 .......\n",
      "[CV]  reg__C=1.1430983876313219, reg__gamma=0.08761761457749352, total=   0.4s\n",
      "[CV] reg__C=3.991305878561678, reg__gamma=0.07180725777960455 ........\n",
      "[CV]  reg__C=3.991305878561678, reg__gamma=0.07180725777960455, total=   0.4s\n",
      "[CV] reg__C=3.991305878561678, reg__gamma=0.07180725777960455 ........\n",
      "[CV]  reg__C=3.991305878561678, reg__gamma=0.07180725777960455, total=   0.4s\n",
      "[CV] reg__C=3.991305878561678, reg__gamma=0.07180725777960455 ........\n",
      "[CV]  reg__C=3.991305878561678, reg__gamma=0.07180725777960455, total=   0.4s\n",
      "[CV] reg__C=1.0485387725194617, reg__gamma=0.09799098521619944 .......\n",
      "[CV]  reg__C=1.0485387725194617, reg__gamma=0.09799098521619944, total=   0.4s\n",
      "[CV] reg__C=1.0485387725194617, reg__gamma=0.09799098521619944 .......\n",
      "[CV]  reg__C=1.0485387725194617, reg__gamma=0.09799098521619944, total=   0.4s\n",
      "[CV] reg__C=1.0485387725194617, reg__gamma=0.09799098521619944 .......\n",
      "[CV]  reg__C=1.0485387725194617, reg__gamma=0.09799098521619944, total=   0.4s\n",
      "[CV] reg__C=6.798962421591127, reg__gamma=0.022233911067827617 .......\n",
      "[CV]  reg__C=6.798962421591127, reg__gamma=0.022233911067827617, total=   0.4s\n",
      "[CV] reg__C=6.798962421591127, reg__gamma=0.022233911067827617 .......\n",
      "[CV]  reg__C=6.798962421591127, reg__gamma=0.022233911067827617, total=   0.4s\n",
      "[CV] reg__C=6.798962421591127, reg__gamma=0.022233911067827617 .......\n",
      "[CV]  reg__C=6.798962421591127, reg__gamma=0.022233911067827617, total=   0.4s\n",
      "[CV] reg__C=1.5199348301309805, reg__gamma=0.019340450985343382 ......\n",
      "[CV]  reg__C=1.5199348301309805, reg__gamma=0.019340450985343382, total=   0.4s\n",
      "[CV] reg__C=1.5199348301309805, reg__gamma=0.019340450985343382 ......\n",
      "[CV]  reg__C=1.5199348301309805, reg__gamma=0.019340450985343382, total=   0.4s\n",
      "[CV] reg__C=1.5199348301309805, reg__gamma=0.019340450985343382 ......\n",
      "[CV]  reg__C=1.5199348301309805, reg__gamma=0.019340450985343382, total=   0.4s\n",
      "[CV] reg__C=2.0148477884158655, reg__gamma=0.053475643163223785 ......\n",
      "[CV]  reg__C=2.0148477884158655, reg__gamma=0.053475643163223785, total=   0.4s\n",
      "[CV] reg__C=2.0148477884158655, reg__gamma=0.053475643163223785 ......\n",
      "[CV]  reg__C=2.0148477884158655, reg__gamma=0.053475643163223785, total=   0.4s\n",
      "[CV] reg__C=2.0148477884158655, reg__gamma=0.053475643163223785 ......\n",
      "[CV]  reg__C=2.0148477884158655, reg__gamma=0.053475643163223785, total=   0.4s\n",
      "[CV] reg__C=2.703616066662001, reg__gamma=0.030122914019804194 .......\n",
      "[CV]  reg__C=2.703616066662001, reg__gamma=0.030122914019804194, total=   0.4s\n",
      "[CV] reg__C=2.703616066662001, reg__gamma=0.030122914019804194 .......\n",
      "[CV]  reg__C=2.703616066662001, reg__gamma=0.030122914019804194, total=   0.4s\n",
      "[CV] reg__C=2.703616066662001, reg__gamma=0.030122914019804194 .......\n",
      "[CV]  reg__C=2.703616066662001, reg__gamma=0.030122914019804194, total=   0.4s\n"
     ]
    },
    {
     "name": "stderr",
     "output_type": "stream",
     "text": [
      "[Parallel(n_jobs=1)]: Done  30 out of  30 | elapsed:   12.3s finished\n"
     ]
    },
    {
     "name": "stdout",
     "output_type": "stream",
     "text": [
      "Support-Vector Regressor score: -0.1413441169813942\n",
      "Fitting 3 folds for each of 3 candidates, totalling 9 fits\n",
      "[CV] reg__max_depth=5 ................................................\n"
     ]
    },
    {
     "name": "stderr",
     "output_type": "stream",
     "text": [
      "/home/gopherguy14/anaconda3/envs/kaggle_comps/lib/python3.6/site-packages/sklearn/model_selection/_split.py:1978: FutureWarning: The default value of cv will change from 3 to 5 in version 0.22. Specify it explicitly to silence this warning.\n",
      "  warnings.warn(CV_WARNING, FutureWarning)\n",
      "/home/gopherguy14/anaconda3/envs/kaggle_comps/lib/python3.6/site-packages/sklearn/model_selection/_search.py:266: UserWarning: The total space of parameters 3 is smaller than n_iter=10. Running 3 iterations. For exhaustive searches, use GridSearchCV.\n",
      "  % (grid_size, self.n_iter, grid_size), UserWarning)\n",
      "[Parallel(n_jobs=1)]: Using backend SequentialBackend with 1 concurrent workers.\n",
      "/home/gopherguy14/anaconda3/envs/kaggle_comps/lib/python3.6/site-packages/sklearn/ensemble/forest.py:245: FutureWarning: The default value of n_estimators will change from 10 in version 0.20 to 100 in 0.22.\n",
      "  \"10 in version 0.20 to 100 in 0.22.\", FutureWarning)\n"
     ]
    },
    {
     "name": "stdout",
     "output_type": "stream",
     "text": [
      "[CV] ................................. reg__max_depth=5, total=   0.2s\n",
      "[CV] reg__max_depth=5 ................................................\n"
     ]
    },
    {
     "name": "stderr",
     "output_type": "stream",
     "text": [
      "[Parallel(n_jobs=1)]: Done   1 out of   1 | elapsed:    0.2s remaining:    0.0s\n",
      "/home/gopherguy14/anaconda3/envs/kaggle_comps/lib/python3.6/site-packages/sklearn/ensemble/forest.py:245: FutureWarning: The default value of n_estimators will change from 10 in version 0.20 to 100 in 0.22.\n",
      "  \"10 in version 0.20 to 100 in 0.22.\", FutureWarning)\n"
     ]
    },
    {
     "name": "stdout",
     "output_type": "stream",
     "text": [
      "[CV] ................................. reg__max_depth=5, total=   0.2s\n",
      "[CV] reg__max_depth=5 ................................................\n"
     ]
    },
    {
     "name": "stderr",
     "output_type": "stream",
     "text": [
      "/home/gopherguy14/anaconda3/envs/kaggle_comps/lib/python3.6/site-packages/sklearn/ensemble/forest.py:245: FutureWarning: The default value of n_estimators will change from 10 in version 0.20 to 100 in 0.22.\n",
      "  \"10 in version 0.20 to 100 in 0.22.\", FutureWarning)\n"
     ]
    },
    {
     "name": "stdout",
     "output_type": "stream",
     "text": [
      "[CV] ................................. reg__max_depth=5, total=   0.2s\n",
      "[CV] reg__max_depth=10 ...............................................\n"
     ]
    },
    {
     "name": "stderr",
     "output_type": "stream",
     "text": [
      "/home/gopherguy14/anaconda3/envs/kaggle_comps/lib/python3.6/site-packages/sklearn/ensemble/forest.py:245: FutureWarning: The default value of n_estimators will change from 10 in version 0.20 to 100 in 0.22.\n",
      "  \"10 in version 0.20 to 100 in 0.22.\", FutureWarning)\n"
     ]
    },
    {
     "name": "stdout",
     "output_type": "stream",
     "text": [
      "[CV] ................................ reg__max_depth=10, total=   0.5s\n",
      "[CV] reg__max_depth=10 ...............................................\n"
     ]
    },
    {
     "name": "stderr",
     "output_type": "stream",
     "text": [
      "/home/gopherguy14/anaconda3/envs/kaggle_comps/lib/python3.6/site-packages/sklearn/ensemble/forest.py:245: FutureWarning: The default value of n_estimators will change from 10 in version 0.20 to 100 in 0.22.\n",
      "  \"10 in version 0.20 to 100 in 0.22.\", FutureWarning)\n"
     ]
    },
    {
     "name": "stdout",
     "output_type": "stream",
     "text": [
      "[CV] ................................ reg__max_depth=10, total=   0.5s\n",
      "[CV] reg__max_depth=10 ...............................................\n"
     ]
    },
    {
     "name": "stderr",
     "output_type": "stream",
     "text": [
      "/home/gopherguy14/anaconda3/envs/kaggle_comps/lib/python3.6/site-packages/sklearn/ensemble/forest.py:245: FutureWarning: The default value of n_estimators will change from 10 in version 0.20 to 100 in 0.22.\n",
      "  \"10 in version 0.20 to 100 in 0.22.\", FutureWarning)\n"
     ]
    },
    {
     "name": "stdout",
     "output_type": "stream",
     "text": [
      "[CV] ................................ reg__max_depth=10, total=   0.5s\n",
      "[CV] reg__max_depth=15 ...............................................\n"
     ]
    },
    {
     "name": "stderr",
     "output_type": "stream",
     "text": [
      "/home/gopherguy14/anaconda3/envs/kaggle_comps/lib/python3.6/site-packages/sklearn/ensemble/forest.py:245: FutureWarning: The default value of n_estimators will change from 10 in version 0.20 to 100 in 0.22.\n",
      "  \"10 in version 0.20 to 100 in 0.22.\", FutureWarning)\n"
     ]
    },
    {
     "name": "stdout",
     "output_type": "stream",
     "text": [
      "[CV] ................................ reg__max_depth=15, total=   0.7s\n",
      "[CV] reg__max_depth=15 ...............................................\n"
     ]
    },
    {
     "name": "stderr",
     "output_type": "stream",
     "text": [
      "/home/gopherguy14/anaconda3/envs/kaggle_comps/lib/python3.6/site-packages/sklearn/ensemble/forest.py:245: FutureWarning: The default value of n_estimators will change from 10 in version 0.20 to 100 in 0.22.\n",
      "  \"10 in version 0.20 to 100 in 0.22.\", FutureWarning)\n"
     ]
    },
    {
     "name": "stdout",
     "output_type": "stream",
     "text": [
      "[CV] ................................ reg__max_depth=15, total=   0.7s\n",
      "[CV] reg__max_depth=15 ...............................................\n"
     ]
    },
    {
     "name": "stderr",
     "output_type": "stream",
     "text": [
      "/home/gopherguy14/anaconda3/envs/kaggle_comps/lib/python3.6/site-packages/sklearn/ensemble/forest.py:245: FutureWarning: The default value of n_estimators will change from 10 in version 0.20 to 100 in 0.22.\n",
      "  \"10 in version 0.20 to 100 in 0.22.\", FutureWarning)\n"
     ]
    },
    {
     "name": "stdout",
     "output_type": "stream",
     "text": [
      "[CV] ................................ reg__max_depth=15, total=   0.7s\n"
     ]
    },
    {
     "name": "stderr",
     "output_type": "stream",
     "text": [
      "[Parallel(n_jobs=1)]: Done   9 out of   9 | elapsed:    4.4s finished\n",
      "/home/gopherguy14/anaconda3/envs/kaggle_comps/lib/python3.6/site-packages/sklearn/ensemble/forest.py:245: FutureWarning: The default value of n_estimators will change from 10 in version 0.20 to 100 in 0.22.\n",
      "  \"10 in version 0.20 to 100 in 0.22.\", FutureWarning)\n"
     ]
    },
    {
     "name": "stdout",
     "output_type": "stream",
     "text": [
      "Random Forest Regressor score: -0.033395470829768605\n"
     ]
    }
   ],
   "source": [
    "# Pass pipeline, names, regressors, parameters, and training/validation data\n",
    "# basically it's a wrapper for pipeline.fit()\n",
    "hprObject.run_pipeline(pipe=final_pipeline,\n",
    "                       names=names, \n",
    "                       regressors=regressors, \n",
    "                       parameters=parameters, \n",
    "                       X_train=X_train,\n",
    "                       X_val=X_val,\n",
    "                       y_train=y_train,\n",
    "                       y_val=y_val)\n"
   ]
  },
  {
   "cell_type": "markdown",
   "metadata": {},
   "source": [
    "\n",
    "#### Best SVR Parameters"
   ]
  },
  {
   "cell_type": "code",
   "execution_count": 202,
   "metadata": {},
   "outputs": [
    {
     "data": {
      "text/plain": [
       "{'reg__C': 1.432249371823025, 'reg__gamma': 0.016599452033620267}"
      ]
     },
     "execution_count": 202,
     "metadata": {},
     "output_type": "execute_result"
    }
   ],
   "source": [
    "hprObject.model_list['Support-Vector Regressor'].best_params_"
   ]
  },
  {
   "cell_type": "markdown",
   "metadata": {},
   "source": [
    "#### Best RF Parameters"
   ]
  },
  {
   "cell_type": "code",
   "execution_count": 203,
   "metadata": {},
   "outputs": [
    {
     "data": {
      "text/plain": [
       "{'reg__max_depth': 10}"
      ]
     },
     "execution_count": 203,
     "metadata": {},
     "output_type": "execute_result"
    }
   ],
   "source": [
    "hprObject.model_list['Random Forest Regressor'].best_params_"
   ]
  },
  {
   "cell_type": "code",
   "execution_count": 204,
   "metadata": {},
   "outputs": [],
   "source": [
    "#hprObject.model_list['Symbolic Regressor'].best_params_"
   ]
  },
  {
   "cell_type": "markdown",
   "metadata": {},
   "source": [
    "# Shapley values from the SHAP module\n",
    "\n",
    "Previously, I had used feature importance / partial dependency plots to evaluate some of my features. But I have found a better method: shapely values. Shapley values fullfill four critereia that are critical for explainability: \n",
    "\n",
    "1. Efficiency\n",
    "2. Symmetry\n",
    "3. Dummy\n",
    "4. Additivity\n",
    "\n",
    "Shapely values explains the average contribution of a feature to the prediction over a variety of different cohorts (subsets) of features.  \n",
    "The shap module (which stands for SHapley Additive exPlanations) speeds up the process of calculating shapley values by performing some interpolation. \n",
    "\n",
    "Useful tips: \n",
    "\n",
    "1. Navigate your pipeline using 'named_steps['name'].transformer_list. I was able to find the one-hot-encoded names this way\n",
    "2. shap can handle dataframes\n",
    "3. Scipy.sparse_matrix can be converted to a dense array by .toarray()"
   ]
  },
  {
   "cell_type": "markdown",
   "metadata": {},
   "source": [
    "### Generate Names"
   ]
  },
  {
   "cell_type": "code",
   "execution_count": 210,
   "metadata": {},
   "outputs": [],
   "source": [
    "## Transform the Validation Set\n",
    "X_train_prepared = final_pipeline.fit_transform(X_train)\n",
    "y_train_values = y_train.values\n",
    "\n",
    "## requires dense matrix\n",
    "X_val_prepared = final_pipeline.transform(X_val)\n",
    "X_val_prepared = X_val_prepared.toarray()\n",
    "y_val_values = y_val.values\n",
    "\n",
    "#ohe_names = hprObject.reg_pipe.named_steps['pipeline'].named_steps['finally'].transformer_list[2][1].named_steps['encode'].get_feature_names().tolist()\n",
    "ohe_names = hprObject.reg_pipe.named_steps['pipeline'].named_steps['finally'].transformer_list[0][1].named_steps['encode'].get_feature_names().tolist()\n",
    "num_missing_names = [ i + str('_missing') for i in other_num_cols ]\n",
    "cat_missing_names = cat_cols\n",
    "#data_names = feat_eng_names + other_num_cols + ohe_names + num_missing_names + cat_missing_names\n",
    "# data_names = feat_eng_names + other_num_cols + ohe_names\n",
    "data_names = ['col1','col2'] + other_num_cols + ohe_names"
   ]
  },
  {
   "cell_type": "code",
   "execution_count": 214,
   "metadata": {},
   "outputs": [
    {
     "data": {
      "text/plain": [
       "(1168, 431)"
      ]
     },
     "execution_count": 214,
     "metadata": {},
     "output_type": "execute_result"
    }
   ],
   "source": [
    "X_train_prepared.toarray().shape"
   ]
  },
  {
   "cell_type": "markdown",
   "metadata": {},
   "source": [
    "### Create Dataframe"
   ]
  },
  {
   "cell_type": "code",
   "execution_count": 211,
   "metadata": {},
   "outputs": [
    {
     "ename": "ValueError",
     "evalue": "Shape of passed values is (292, 431), indices imply (292, 230)",
     "output_type": "error",
     "traceback": [
      "\u001b[0;31m---------------------------------------------------------------------------\u001b[0m",
      "\u001b[0;31mValueError\u001b[0m                                Traceback (most recent call last)",
      "\u001b[0;32m~/anaconda3/envs/kaggle_comps/lib/python3.6/site-packages/pandas/core/internals/managers.py\u001b[0m in \u001b[0;36mcreate_block_manager_from_blocks\u001b[0;34m(blocks, axes)\u001b[0m\n\u001b[1;32m   1650\u001b[0m                 blocks = [make_block(values=blocks[0],\n\u001b[0;32m-> 1651\u001b[0;31m                                      placement=slice(0, len(axes[0])))]\n\u001b[0m\u001b[1;32m   1652\u001b[0m \u001b[0;34m\u001b[0m\u001b[0m\n",
      "\u001b[0;32m~/anaconda3/envs/kaggle_comps/lib/python3.6/site-packages/pandas/core/internals/blocks.py\u001b[0m in \u001b[0;36mmake_block\u001b[0;34m(values, placement, klass, ndim, dtype, fastpath)\u001b[0m\n\u001b[1;32m   3094\u001b[0m \u001b[0;34m\u001b[0m\u001b[0m\n\u001b[0;32m-> 3095\u001b[0;31m     \u001b[0;32mreturn\u001b[0m \u001b[0mklass\u001b[0m\u001b[0;34m(\u001b[0m\u001b[0mvalues\u001b[0m\u001b[0;34m,\u001b[0m \u001b[0mndim\u001b[0m\u001b[0;34m=\u001b[0m\u001b[0mndim\u001b[0m\u001b[0;34m,\u001b[0m \u001b[0mplacement\u001b[0m\u001b[0;34m=\u001b[0m\u001b[0mplacement\u001b[0m\u001b[0;34m)\u001b[0m\u001b[0;34m\u001b[0m\u001b[0;34m\u001b[0m\u001b[0m\n\u001b[0m\u001b[1;32m   3096\u001b[0m \u001b[0;34m\u001b[0m\u001b[0m\n",
      "\u001b[0;32m~/anaconda3/envs/kaggle_comps/lib/python3.6/site-packages/pandas/core/internals/blocks.py\u001b[0m in \u001b[0;36m__init__\u001b[0;34m(self, values, placement, ndim)\u001b[0m\n\u001b[1;32m     86\u001b[0m                 \u001b[0;34m'Wrong number of items passed {val}, placement implies '\u001b[0m\u001b[0;34m\u001b[0m\u001b[0;34m\u001b[0m\u001b[0m\n\u001b[0;32m---> 87\u001b[0;31m                 '{mgr}'.format(val=len(self.values), mgr=len(self.mgr_locs)))\n\u001b[0m\u001b[1;32m     88\u001b[0m \u001b[0;34m\u001b[0m\u001b[0m\n",
      "\u001b[0;31mValueError\u001b[0m: Wrong number of items passed 431, placement implies 230",
      "\nDuring handling of the above exception, another exception occurred:\n",
      "\u001b[0;31mValueError\u001b[0m                                Traceback (most recent call last)",
      "\u001b[0;32m<ipython-input-211-0285605618d4>\u001b[0m in \u001b[0;36m<module>\u001b[0;34m\u001b[0m\n\u001b[1;32m      1\u001b[0m \u001b[0;31m## Convert this into a pandas dataframe\u001b[0m\u001b[0;34m\u001b[0m\u001b[0;34m\u001b[0m\u001b[0;34m\u001b[0m\u001b[0m\n\u001b[0;32m----> 2\u001b[0;31m \u001b[0mX_val_df\u001b[0m \u001b[0;34m=\u001b[0m \u001b[0mpd\u001b[0m\u001b[0;34m.\u001b[0m\u001b[0mDataFrame\u001b[0m\u001b[0;34m(\u001b[0m\u001b[0mdata\u001b[0m\u001b[0;34m=\u001b[0m\u001b[0mX_val_prepared\u001b[0m\u001b[0;34m,\u001b[0m \u001b[0mcolumns\u001b[0m\u001b[0;34m=\u001b[0m\u001b[0mdata_names\u001b[0m\u001b[0;34m,\u001b[0m \u001b[0mindex\u001b[0m\u001b[0;34m=\u001b[0m\u001b[0;34m[\u001b[0m\u001b[0mi\u001b[0m \u001b[0;32mfor\u001b[0m \u001b[0mi\u001b[0m \u001b[0;32min\u001b[0m \u001b[0mrange\u001b[0m\u001b[0;34m(\u001b[0m\u001b[0;36m0\u001b[0m\u001b[0;34m,\u001b[0m \u001b[0;36m292\u001b[0m\u001b[0;34m)\u001b[0m\u001b[0;34m]\u001b[0m\u001b[0;34m)\u001b[0m\u001b[0;34m\u001b[0m\u001b[0;34m\u001b[0m\u001b[0m\n\u001b[0m",
      "\u001b[0;32m~/anaconda3/envs/kaggle_comps/lib/python3.6/site-packages/pandas/core/frame.py\u001b[0m in \u001b[0;36m__init__\u001b[0;34m(self, data, index, columns, dtype, copy)\u001b[0m\n\u001b[1;32m    422\u001b[0m             \u001b[0;32melse\u001b[0m\u001b[0;34m:\u001b[0m\u001b[0;34m\u001b[0m\u001b[0;34m\u001b[0m\u001b[0m\n\u001b[1;32m    423\u001b[0m                 mgr = init_ndarray(data, index, columns, dtype=dtype,\n\u001b[0;32m--> 424\u001b[0;31m                                    copy=copy)\n\u001b[0m\u001b[1;32m    425\u001b[0m \u001b[0;34m\u001b[0m\u001b[0m\n\u001b[1;32m    426\u001b[0m         \u001b[0;31m# For data is list-like, or Iterable (will consume into list)\u001b[0m\u001b[0;34m\u001b[0m\u001b[0;34m\u001b[0m\u001b[0;34m\u001b[0m\u001b[0m\n",
      "\u001b[0;32m~/anaconda3/envs/kaggle_comps/lib/python3.6/site-packages/pandas/core/internals/construction.py\u001b[0m in \u001b[0;36minit_ndarray\u001b[0;34m(values, index, columns, dtype, copy)\u001b[0m\n\u001b[1;32m    165\u001b[0m         \u001b[0mvalues\u001b[0m \u001b[0;34m=\u001b[0m \u001b[0mmaybe_infer_to_datetimelike\u001b[0m\u001b[0;34m(\u001b[0m\u001b[0mvalues\u001b[0m\u001b[0;34m)\u001b[0m\u001b[0;34m\u001b[0m\u001b[0;34m\u001b[0m\u001b[0m\n\u001b[1;32m    166\u001b[0m \u001b[0;34m\u001b[0m\u001b[0m\n\u001b[0;32m--> 167\u001b[0;31m     \u001b[0;32mreturn\u001b[0m \u001b[0mcreate_block_manager_from_blocks\u001b[0m\u001b[0;34m(\u001b[0m\u001b[0;34m[\u001b[0m\u001b[0mvalues\u001b[0m\u001b[0;34m]\u001b[0m\u001b[0;34m,\u001b[0m \u001b[0;34m[\u001b[0m\u001b[0mcolumns\u001b[0m\u001b[0;34m,\u001b[0m \u001b[0mindex\u001b[0m\u001b[0;34m]\u001b[0m\u001b[0;34m)\u001b[0m\u001b[0;34m\u001b[0m\u001b[0;34m\u001b[0m\u001b[0m\n\u001b[0m\u001b[1;32m    168\u001b[0m \u001b[0;34m\u001b[0m\u001b[0m\n\u001b[1;32m    169\u001b[0m \u001b[0;34m\u001b[0m\u001b[0m\n",
      "\u001b[0;32m~/anaconda3/envs/kaggle_comps/lib/python3.6/site-packages/pandas/core/internals/managers.py\u001b[0m in \u001b[0;36mcreate_block_manager_from_blocks\u001b[0;34m(blocks, axes)\u001b[0m\n\u001b[1;32m   1658\u001b[0m         \u001b[0mblocks\u001b[0m \u001b[0;34m=\u001b[0m \u001b[0;34m[\u001b[0m\u001b[0mgetattr\u001b[0m\u001b[0;34m(\u001b[0m\u001b[0mb\u001b[0m\u001b[0;34m,\u001b[0m \u001b[0;34m'values'\u001b[0m\u001b[0;34m,\u001b[0m \u001b[0mb\u001b[0m\u001b[0;34m)\u001b[0m \u001b[0;32mfor\u001b[0m \u001b[0mb\u001b[0m \u001b[0;32min\u001b[0m \u001b[0mblocks\u001b[0m\u001b[0;34m]\u001b[0m\u001b[0;34m\u001b[0m\u001b[0;34m\u001b[0m\u001b[0m\n\u001b[1;32m   1659\u001b[0m         \u001b[0mtot_items\u001b[0m \u001b[0;34m=\u001b[0m \u001b[0msum\u001b[0m\u001b[0;34m(\u001b[0m\u001b[0mb\u001b[0m\u001b[0;34m.\u001b[0m\u001b[0mshape\u001b[0m\u001b[0;34m[\u001b[0m\u001b[0;36m0\u001b[0m\u001b[0;34m]\u001b[0m \u001b[0;32mfor\u001b[0m \u001b[0mb\u001b[0m \u001b[0;32min\u001b[0m \u001b[0mblocks\u001b[0m\u001b[0;34m)\u001b[0m\u001b[0;34m\u001b[0m\u001b[0;34m\u001b[0m\u001b[0m\n\u001b[0;32m-> 1660\u001b[0;31m         \u001b[0mconstruction_error\u001b[0m\u001b[0;34m(\u001b[0m\u001b[0mtot_items\u001b[0m\u001b[0;34m,\u001b[0m \u001b[0mblocks\u001b[0m\u001b[0;34m[\u001b[0m\u001b[0;36m0\u001b[0m\u001b[0;34m]\u001b[0m\u001b[0;34m.\u001b[0m\u001b[0mshape\u001b[0m\u001b[0;34m[\u001b[0m\u001b[0;36m1\u001b[0m\u001b[0;34m:\u001b[0m\u001b[0;34m]\u001b[0m\u001b[0;34m,\u001b[0m \u001b[0maxes\u001b[0m\u001b[0;34m,\u001b[0m \u001b[0me\u001b[0m\u001b[0;34m)\u001b[0m\u001b[0;34m\u001b[0m\u001b[0;34m\u001b[0m\u001b[0m\n\u001b[0m\u001b[1;32m   1661\u001b[0m \u001b[0;34m\u001b[0m\u001b[0m\n\u001b[1;32m   1662\u001b[0m \u001b[0;34m\u001b[0m\u001b[0m\n",
      "\u001b[0;32m~/anaconda3/envs/kaggle_comps/lib/python3.6/site-packages/pandas/core/internals/managers.py\u001b[0m in \u001b[0;36mconstruction_error\u001b[0;34m(tot_items, block_shape, axes, e)\u001b[0m\n\u001b[1;32m   1689\u001b[0m         \u001b[0;32mraise\u001b[0m \u001b[0mValueError\u001b[0m\u001b[0;34m(\u001b[0m\u001b[0;34m\"Empty data passed with indices specified.\"\u001b[0m\u001b[0;34m)\u001b[0m\u001b[0;34m\u001b[0m\u001b[0;34m\u001b[0m\u001b[0m\n\u001b[1;32m   1690\u001b[0m     raise ValueError(\"Shape of passed values is {0}, indices imply {1}\".format(\n\u001b[0;32m-> 1691\u001b[0;31m         passed, implied))\n\u001b[0m\u001b[1;32m   1692\u001b[0m \u001b[0;34m\u001b[0m\u001b[0m\n\u001b[1;32m   1693\u001b[0m \u001b[0;34m\u001b[0m\u001b[0m\n",
      "\u001b[0;31mValueError\u001b[0m: Shape of passed values is (292, 431), indices imply (292, 230)"
     ]
    }
   ],
   "source": [
    "## Convert this into a pandas dataframe\n",
    "X_val_df = pd.DataFrame(data=X_val_prepared, columns=data_names, index=[i for i in range(0, 292)])"
   ]
  },
  {
   "cell_type": "markdown",
   "metadata": {},
   "source": [
    "### Fit Estimator Outside of Pipeline"
   ]
  },
  {
   "cell_type": "code",
   "execution_count": null,
   "metadata": {},
   "outputs": [],
   "source": []
  },
  {
   "cell_type": "code",
   "execution_count": 126,
   "metadata": {},
   "outputs": [
    {
     "name": "stderr",
     "output_type": "stream",
     "text": [
      "/home/gopherguy14/anaconda3/envs/kaggle_comps/lib/python3.6/site-packages/sklearn/ensemble/forest.py:245: FutureWarning: The default value of n_estimators will change from 10 in version 0.20 to 100 in 0.22.\n",
      "  \"10 in version 0.20 to 100 in 0.22.\", FutureWarning)\n"
     ]
    }
   ],
   "source": [
    "## Interestingly, SVR() doesn't seem to work very well. Perhaps I need to perform dimension reduction\n",
    "## on the training set\n",
    "#svr_model = SVR(gamma = model_list['Support-Vector Regressor'].best_params_[\"reg__gamma\"], \n",
    "#    C = model_list['Support-Vector Regressor'].best_params_[\"reg__C\"]).fit(X_train_prepared, y_train_values)\n",
    "\n",
    "rf_model = RandomForestRegressor(max_depth = hprObject.model_list['Random Forest Regressor'].best_params_[\"reg__max_depth\"]).fit(X_train_prepared, y_train_values)\n"
   ]
  },
  {
   "cell_type": "markdown",
   "metadata": {},
   "source": [
    "## Calculate Shapley Values"
   ]
  },
  {
   "cell_type": "code",
   "execution_count": 127,
   "metadata": {},
   "outputs": [],
   "source": [
    "explainer = shap.TreeExplainer(rf_model)\n",
    "shap_values = explainer.shap_values(X_val_df)"
   ]
  },
  {
   "cell_type": "markdown",
   "metadata": {},
   "source": [
    "The figure below is a summary of the shapely values for the top features learned by our model. 'OverallQual' has the highest, _average_ contribution to the predicted sales price. 'GrLivArea' is in second place, having a more 'continuous' distribution. In general, it looks like 'low' values of features contribute to lower values of the response and 'high' values of features contribute to higher values of the response. There are some exceptions, like 'x26_Detchd' for instance. "
   ]
  },
  {
   "cell_type": "code",
   "execution_count": 128,
   "metadata": {},
   "outputs": [
    {
     "data": {
      "image/png": "[encoded data removed]",
      "text/plain": [
       "<Figure size 576x684 with 2 Axes>"
      ]
     },
     "metadata": {
      "needs_background": "light"
     },
     "output_type": "display_data"
    }
   ],
   "source": [
    "shap.summary_plot(shap_values, X_val_df)"
   ]
  },
  {
   "cell_type": "markdown",
   "metadata": {},
   "source": [
    "It is possible to examine the interaction between two features. Here, we look at 'GrLivArea' and 'OverallQual'. The values of 'GrLivArea' are along the x-axis and the values of 'OverallQual' are plotted as colors. This graph shows us that there is a linear relationship bewteen GrLivArea and the sales price of the home. It looks like there is an interaction between the overal quality of the home nad the ground living area of the home."
   ]
  },
  {
   "cell_type": "code",
   "execution_count": 129,
   "metadata": {},
   "outputs": [
    {
     "data": {
      "image/png": "[encoded data removed]",
      "text/plain": [
       "<Figure size 540x360 with 2 Axes>"
      ]
     },
     "metadata": {
      "needs_background": "light"
     },
     "output_type": "display_data"
    }
   ],
   "source": [
    "shap.dependence_plot(\"GrLivArea\", shap_values, X_val_df)"
   ]
  },
  {
   "cell_type": "markdown",
   "metadata": {},
   "source": [
    "Anything built before 1960 will decrease the sale price. Interestingly, houses with high 'overall quality' built recently do not affect the sales price very much.    "
   ]
  },
  {
   "cell_type": "code",
   "execution_count": 130,
   "metadata": {},
   "outputs": [
    {
     "data": {
      "image/png": "[encoded data removed]",
      "text/plain": [
       "<Figure size 540x360 with 2 Axes>"
      ]
     },
     "metadata": {
      "needs_background": "light"
     },
     "output_type": "display_data"
    }
   ],
   "source": [
    "shap.dependence_plot(\"YearBuilt\", shap_values, X_val_df)"
   ]
  },
  {
   "cell_type": "markdown",
   "metadata": {},
   "source": [
    "# Final Fit\n",
    "I am choosing to use the Random Forest model because its final score in my cross-validation scheme was much lower than than the SVM (-0.019 vs -0.148). Granted, I did not tune my hyperparameters *very well* and there are definitely more hyperparameters to choose from. I also think that I may need to perform some dimension reduction or eliminate the \"missing indicators\" for the SVM; when I tried to generate predictions from the SVM all that it predicted was the same value over and over. "
   ]
  },
  {
   "cell_type": "code",
   "execution_count": 172,
   "metadata": {},
   "outputs": [
    {
     "name": "stderr",
     "output_type": "stream",
     "text": [
      "/home/gopherguy14/anaconda3/envs/kaggle_comps/lib/python3.6/site-packages/sklearn/ensemble/forest.py:245: FutureWarning: The default value of n_estimators will change from 10 in version 0.20 to 100 in 0.22.\n",
      "  \"10 in version 0.20 to 100 in 0.22.\", FutureWarning)\n"
     ]
    }
   ],
   "source": [
    "# Last pipe - using \"tuned\" hyperparameters for Random Forest (yes, much more tuning could be done!)\n",
    "rf_all_data = Pipeline([\n",
    "       ('pipeline', final_pipeline),\n",
    "       ('select', VarianceThreshold(0.15)),\n",
    "       ('rf', RandomForestRegressor(\n",
    "            max_depth=hprObject.model_list['Random Forest Regressor'].best_params_[\"reg__max_depth\"]\n",
    "       ))\n",
    "])\n",
    "    \n",
    "svm_all_data = Pipeline([\n",
    "    ('pipeline', final_pipeline),\n",
    "    ('select', VarianceThreshold(0.15)),\n",
    "    ('svm', SVR(\n",
    "           gamma=hprObject.model_list['Support-Vector Regressor'].best_params_['reg__gamma'],\n",
    "           C=hprObject.model_list['Support-Vector Regressor'].best_params_['reg__C']\n",
    "    ))\n",
    "])  \n",
    "\n",
    "# gp_all_data = Pipeline([\n",
    "#    ('pipeline', final_pipeline),\n",
    "#    ('select', VarianceThreshold(0.15)),\n",
    "#    ('gp', SymbolicRegressor())\n",
    "# ])\n",
    "\n",
    "# Final Models\n",
    "rf_final_model = rf_all_data.fit(hprObject.train, hprObject.price_labels.values)\n",
    "svm_final_model = svm_all_data.fit(hprObject.train, hprObject.price_labels.values)\n",
    "# gp_final_model = gp_all_data.fit(hprObject.train, hprObject.price_labels.values)\n",
    "\n",
    "# And ta da! We have our predictions\n",
    "rf_log_predictions = rf_final_model.predict(hprObject.test)\n",
    "svm_log_predictions = svm_final_model.predict(hprObject.test)\n",
    "# gp_log_predictions = gp_final_model.predict(hprObject.test)\n"
   ]
  },
  {
   "cell_type": "markdown",
   "metadata": {
    "_uuid": "a041e93a9736cae6db4444249b1849f08302e934"
   },
   "source": [
    "## Generate Submission File"
   ]
  },
  {
   "cell_type": "markdown",
   "metadata": {},
   "source": [
    "Here I convert back from log+1 dollars back to regular dollars. "
   ]
  },
  {
   "cell_type": "code",
   "execution_count": 173,
   "metadata": {
    "_uuid": "4fbf36d06564d7fa2ae9432ee19da07d3ffeeaa9"
   },
   "outputs": [
    {
     "data": {
      "text/plain": [
       "array([126978.36395271, 148701.65549538, 166407.60363792, ...,\n",
       "       148957.87902607, 108296.44266235, 220373.02654878])"
      ]
     },
     "execution_count": 173,
     "metadata": {},
     "output_type": "execute_result"
    }
   ],
   "source": [
    "rf_predictions = (np.exp(rf_log_predictions) - 1)\n",
    "rf_predictions"
   ]
  },
  {
   "cell_type": "code",
   "execution_count": 174,
   "metadata": {},
   "outputs": [
    {
     "data": {
      "text/plain": [
       "array([111153.8587039 , 172293.51740204, 178695.15901021, ...,\n",
       "       170361.52559619, 115556.10750389, 229322.25046092])"
      ]
     },
     "execution_count": 174,
     "metadata": {},
     "output_type": "execute_result"
    }
   ],
   "source": [
    "svm_predictions = (np.exp(svm_log_predictions) - 1)\n",
    "svm_predictions"
   ]
  },
  {
   "cell_type": "code",
   "execution_count": 175,
   "metadata": {},
   "outputs": [
    {
     "data": {
      "text/plain": [
       "array([165908.62680796, 165908.62680796, 165908.62680796, ...,\n",
       "       165908.62680796, 165908.62680796, 165908.62680796])"
      ]
     },
     "execution_count": 175,
     "metadata": {},
     "output_type": "execute_result"
    }
   ],
   "source": [
    "# gp_predictions = (np.exp(gp_log_predictions) - 1)\n",
    "# gp_predictions"
   ]
  },
  {
   "cell_type": "code",
   "execution_count": 134,
   "metadata": {},
   "outputs": [
    {
     "data": {
      "text/plain": [
       "array([146064.19048968, 162196.54209091, 176873.75495516, ...,\n",
       "       157955.7856192 , 138652.15441768, 221636.03426312])"
      ]
     },
     "execution_count": 134,
     "metadata": {},
     "output_type": "execute_result"
    }
   ],
   "source": [
    "# Blend w/geometric mean\n",
    "blend_pred = np.sqrt(rf_predictions * svm_predictions)\n",
    "blend_pred"
   ]
  },
  {
   "cell_type": "markdown",
   "metadata": {},
   "source": [
    "Submission Complete! "
   ]
  },
  {
   "cell_type": "code",
   "execution_count": 135,
   "metadata": {},
   "outputs": [],
   "source": [
    "# Random Forest predictions\n",
    "hprObject.submission['SalePrice'] = pd.Series(rf_predictions, index=hprObject.submission.index)\n",
    "hprObject.submission.to_csv('./submissions/rf_submission10cJune2019.csv',index=False)\n",
    "\n",
    "# Support-Vector Machine predictions\n",
    "hprObject.submission['SalePrice'] = pd.Series(svm_predictions, index=hprObject.submission.index)\n",
    "hprObject.submission.to_csv('./submissions/svm_submission10cJune2019.csv',index=False)\n",
    "\n",
    "# Blended\n",
    "hprObject.submission['SalePrice'] = pd.Series(blend_pred, index=hprObject.submission.index)\n",
    "hprObject.submission.to_csv('./submissions/blend_submission10cJune2019.csv',index=False)"
   ]
  },
  {
   "cell_type": "code",
   "execution_count": null,
   "metadata": {},
   "outputs": [],
   "source": []
  }
 ],
 "metadata": {
  "anaconda-cloud": {},
  "kernelspec": {
   "display_name": "Python 3",
   "language": "python",
   "name": "python3"
  },
  "language_info": {
   "codemirror_mode": {
    "name": "ipython",
    "version": 3
   },
   "file_extension": ".py",
   "mimetype": "text/x-python",
   "name": "python",
   "nbconvert_exporter": "python",
   "pygments_lexer": "ipython3",
   "version": "3.6.8"
  }
 },
 "nbformat": 4,
 "nbformat_minor": 1
}
